{
 "cells": [
  {
   "cell_type": "markdown",
   "metadata": {},
   "source": [
    "___\n",
    "\n",
    "<p style=\"text-align: center;\"><img src=\"https://docs.google.com/uc?id=1lY0Uj5R04yMY3-ZppPWxqCr5pvBLYPnV\" class=\"img-fluid\" alt=\"CLRSWY\"></p>\n",
    "\n",
    "___"
   ]
  },
  {
   "cell_type": "markdown",
   "metadata": {},
   "source": [
    "# WELCOME!"
   ]
  },
  {
   "cell_type": "markdown",
   "metadata": {},
   "source": [
    "Welcome to the \"***Sentiment Analysis and Classification Project***\" project, the first and only project of the ***Natural Language Processing (NLP)*** course.\n",
    "\n",
    "This analysis will focus on using Natural Language techniques to find broad trends in the written thoughts of the customers. \n",
    "The goal in this project is to predict whether customers recommend the product they purchased using the information in their review text.\n",
    "\n",
    "One of the challenges in this project is to extract useful information from the *Review Text* variable using text mining techniques. The other challenge is that you need to convert text files into numeric feature vectors to run machine learning algorithms.\n",
    "\n",
    "At the end of this project, you will learn how to build sentiment classification models using algorithms ***Logistic Regression, Naive Bayes, Support Vector Machine, Random Forest*** and ***Ada Boosting***.\n",
    "\n",
    "Before diving into the project, please take a look at the Determines and Tasks.\n",
    "\n",
    "- ***NOTE:*** *This tutorial assumes that you already know the basics of coding in Python and are familiar with the theory behind the algorithms mentioned above as well as NLP techniques.*\n",
    "\n"
   ]
  },
  {
   "cell_type": "markdown",
   "metadata": {},
   "source": [
    "---\n",
    "---\n"
   ]
  },
  {
   "cell_type": "markdown",
   "metadata": {},
   "source": [
    "# #Determines\n",
    "The data is a collection of 22641 Rows and 10 column variables. Each row includes a written comment as well as additional customer information. \n",
    "Also each row corresponds to a customer review, and includes the variables:\n",
    "\n",
    "\n",
    "**Feature Information:**\n",
    "\n",
    "**Clothing ID:** Integer Categorical variable that refers to the specific piece being reviewed.\n",
    "\n",
    "**Age:** Positive Integer variable of the reviewers age.\n",
    "\n",
    "**Title:** String variable for the title of the review.\n",
    "\n",
    "**Review Text:** String variable for the review body.\n",
    "\n",
    "**Rating:** Positive Ordinal Integer variable for the product score granted by the customer from 1 Worst, to 5 Best.\n",
    "\n",
    "**Recommended IND:** Binary variable stating where the customer recommends the product where 1 is recommended, 0 is not recommended.\n",
    "\n",
    "**Positive Feedback Count:** Positive Integer documenting the number of other customers who found this review positive.\n",
    "\n",
    "**Division Name:** Categorical name of the product high level division.\n",
    "\n",
    "**Department Name:** Categorical name of the product department name.\n",
    "\n",
    "**Class Name:** Categorical name of the product class name.\n",
    "\n",
    "---\n",
    "\n",
    "The basic goal in this project is to predict whether customers recommend the product they purchased using the information in their *Review Text*.\n",
    "Especially, it should be noted that the expectation in this project is to use only the \"Review Text\" variable and neglect the other ones. \n",
    "Of course, if you want, you can work on other variables individually.\n",
    "\n",
    "Project Structure is separated in five tasks: ***EDA, Feature Selection and Data Cleaning , Text Mining, Word Cloud*** and ***Sentiment Classification with Machine Learning***.\n",
    "\n",
    "Classically, you can start to know the data after doing the import and load operations. \n",
    "You need to do missing value detection for Review Text, which is the only variable you need to care about. You can drop other variables.\n",
    "\n",
    "You will need to apply ***noise removal*** and ***lexicon normalization*** processes by using the capabilities of the ***nltk*** library to the data set that is ready for text mining.\n",
    "\n",
    "Afterwards, you will implement ***Word Cloud*** as a visual analysis of word repetition.\n",
    "\n",
    "Finally, You will build models with five different algorithms and compare their performance. Thus, you will determine the algorithm that makes the most accurate emotion estimation by using the information obtained from the * Review Text * variable.\n",
    "\n",
    "\n",
    "\n",
    "\n"
   ]
  },
  {
   "cell_type": "markdown",
   "metadata": {},
   "source": [
    "---\n",
    "---\n"
   ]
  },
  {
   "cell_type": "markdown",
   "metadata": {},
   "source": [
    "# #Tasks\n",
    "\n",
    "#### 1. Exploratory Data Analysis\n",
    "\n",
    "- Import Modules, Load Discover the Data\n",
    "\n",
    "#### 2. Feature Selection and Data Cleaning\n",
    "\n",
    "- Feature Selection and Rename Column Name\n",
    "- Missing Value Detection\n",
    "\n",
    "#### 3. Text Mining\n",
    "\n",
    "- Tokenization\n",
    "- Noise Removal\n",
    "- Lexicon Normalization\n",
    "\n",
    "#### 4. WordCloud - Repetition of Words\n",
    "\n",
    "- Detect Reviews\n",
    "- Collect Words \n",
    "- Create Word Cloud \n",
    "\n",
    "\n",
    "#### 5. Sentiment Classification with Machine Learning\n",
    "\n",
    "- Train - Test Split\n",
    "- Vectorization\n",
    "- TF-IDF\n",
    "- Logistic Regression\n",
    "- Naive Bayes\n",
    "- Support Vector Machine\n",
    "- Random Forest\n",
    "- AdaBoost\n",
    "- Model Comparison"
   ]
  },
  {
   "cell_type": "markdown",
   "metadata": {},
   "source": [
    "---\n",
    "---\n"
   ]
  },
  {
   "cell_type": "markdown",
   "metadata": {
    "id": "HOkP9vyYCV31"
   },
   "source": [
    "# Sentiment analysis of women's clothes reviews\n",
    "\n",
    "\n",
    "In this project we used sentiment analysis to determined whether the product is recommended or not. We used different machine learning algorithms to get more accurate predictions. The following classification algorithms have been used: Logistic Regression, Naive Bayes, Support Vector Machine (SVM), Random Forest and Ada Boosting. The dataset comes from Woman Clothing Review that can be find at (https://www.kaggle.com/nicapotato/womens-ecommerce-clothing-reviews. \n"
   ]
  },
  {
   "cell_type": "markdown",
   "metadata": {},
   "source": [
    "## 1. Exploratory Data Analysis"
   ]
  },
  {
   "cell_type": "markdown",
   "metadata": {
    "id": "FXzFEeYkCV32"
   },
   "source": [
    "### Import Libraries, Load and Discover the Data"
   ]
  },
  {
   "cell_type": "code",
   "execution_count": null,
   "metadata": {},
   "outputs": [],
   "source": []
  },
  {
   "cell_type": "markdown",
   "metadata": {
    "id": "T54GVJwICV36"
   },
   "source": [
    "### Data Wrangling\n",
    "Take info"
   ]
  },
  {
   "cell_type": "code",
   "execution_count": null,
   "metadata": {},
   "outputs": [],
   "source": []
  },
  {
   "cell_type": "markdown",
   "metadata": {
    "id": "AQuhTpcwCV38"
   },
   "source": [
    "#### Check Proportion of Target Class Variable:"
   ]
  },
  {
   "cell_type": "markdown",
   "metadata": {
    "id": "0YXKZ5QgCV39"
   },
   "source": [
    "The target class variable is imbalanced, where \"Recommended\" values are more dominating then \"Not Recommendation\"."
   ]
  },
  {
   "cell_type": "code",
   "execution_count": null,
   "metadata": {},
   "outputs": [],
   "source": []
  },
  {
   "cell_type": "markdown",
   "metadata": {},
   "source": [
    "---\n",
    "---\n"
   ]
  },
  {
   "cell_type": "markdown",
   "metadata": {
    "id": "cPEVV0JGCV37"
   },
   "source": [
    "## 2. Feature Selection and Data Cleaning\n",
    "\n",
    "From now on, the DataFrame you will work with should contain two columns: **\"Review Text\"** and **\"Recommended IND\"**. You can do the missing value detection operations from now on. You can also rename the column names if you want.\n",
    "\n"
   ]
  },
  {
   "cell_type": "markdown",
   "metadata": {},
   "source": [
    "### Feature Selection and Rename Column Name"
   ]
  },
  {
   "cell_type": "code",
   "execution_count": null,
   "metadata": {},
   "outputs": [],
   "source": []
  },
  {
   "cell_type": "markdown",
   "metadata": {
    "id": "vl2h73vYCV38"
   },
   "source": [
    "### Missing Value Detection"
   ]
  },
  {
   "cell_type": "code",
   "execution_count": null,
   "metadata": {},
   "outputs": [],
   "source": []
  },
  {
   "cell_type": "markdown",
   "metadata": {},
   "source": [
    "---\n",
    "---\n"
   ]
  },
  {
   "cell_type": "markdown",
   "metadata": {
    "id": "WO_zLq2UCV39"
   },
   "source": [
    "## 3. Text Mining\n",
    "\n",
    "Text is the most unstructured form of all the available data, therefore various types of noise are present in it. This means that the data is not readily analyzable without any pre-processing. The entire process of cleaning and standardization of text, making it noise-free and ready for analysis is known as **text preprocessing**.\n",
    "\n",
    "The three key steps of text preprocessing:\n",
    "\n",
    "- **Tokenization:**\n",
    "This step is one of the top priorities when it comes to working on text mining. Tokenization is essentially splitting a phrase, sentence, paragraph, or an entire text document into smaller units, such as individual words or terms. Each of these smaller units are called tokens.\n",
    "\n",
    "- **Noise Removal:**\n",
    "Any piece of text which is not relevant to the context of the data and the end-output can be specified as the noise.\n",
    "For example – language stopwords (commonly used words of a language – is, am, the, of, in etc), URLs or links, upper and lower case differentiation, punctuations and industry specific words. This step deals with removal of all types of noisy entities present in the text.\n",
    "\n",
    "\n",
    "- **Lexicon Normalization:**\n",
    "Another type of textual noise is about the multiple representations exhibited by single word.\n",
    "For example – “play”, “player”, “played”, “plays” and “playing” are the different variations of the word – “play”. Though they mean different things, contextually they all are similar. This step converts all the disparities of a word into their normalized form (also known as lemma). \n",
    "There are two methods of lexicon normalisation; **[Stemming or Lemmatization](https://www.guru99.com/stemming-lemmatization-python-nltk.html)**. Lemmatization is recommended for this case, because Lemmatization as this will return the root form of each word (rather than just stripping suffixes, which is stemming).\n",
    "\n",
    "As the first step change text to tokens and convertion all of the words to lower case.  Next remove punctuation, bad characters, numbers and stop words. The second step is aimed to normalization them throught the Lemmatization method. \n",
    "\n",
    "\n",
    "***Note:*** *Use the functions of the ***[nltk Library](https://www.guru99.com/nltk-tutorial.html)*** for all the above operations.*\n",
    "\n"
   ]
  },
  {
   "cell_type": "markdown",
   "metadata": {},
   "source": [
    "### Tokenization"
   ]
  },
  {
   "cell_type": "code",
   "execution_count": null,
   "metadata": {},
   "outputs": [],
   "source": []
  },
  {
   "cell_type": "markdown",
   "metadata": {},
   "source": [
    "### Noise Removal"
   ]
  },
  {
   "cell_type": "code",
   "execution_count": null,
   "metadata": {},
   "outputs": [],
   "source": []
  },
  {
   "cell_type": "markdown",
   "metadata": {},
   "source": [
    "### Lexicon Normalization"
   ]
  },
  {
   "cell_type": "code",
   "execution_count": null,
   "metadata": {},
   "outputs": [],
   "source": []
  },
  {
   "cell_type": "markdown",
   "metadata": {},
   "source": [
    "---\n",
    "---\n"
   ]
  },
  {
   "cell_type": "markdown",
   "metadata": {
    "id": "_DTNRasaCV3-"
   },
   "source": [
    "## 4. WordCloud - Repetition of Words\n",
    "\n",
    "Now you'll create a Word Clouds for reviews, representing most common words in each target class.\n",
    "\n",
    "Word Cloud is a data visualization technique used for representing text data in which the size of each word indicates its frequency or importance. Significant textual data points can be highlighted using a word cloud.\n",
    "\n",
    "You are expected to create separate word clouds for positive and negative reviews. You can qualify a review as positive or negative, by looking at its recommended status. You may need to use capabilities of matplotlib for visualizations.\n",
    "\n",
    "You can follow the steps below:\n",
    "\n",
    "- Detect Reviews\n",
    "- Collect Words \n",
    "- Create Word Cloud \n"
   ]
  },
  {
   "cell_type": "markdown",
   "metadata": {},
   "source": [
    "### Detect Reviews (positive and negative separately)"
   ]
  },
  {
   "cell_type": "code",
   "execution_count": null,
   "metadata": {},
   "outputs": [],
   "source": []
  },
  {
   "cell_type": "markdown",
   "metadata": {},
   "source": [
    "### Collect Words (positive and negative separately)"
   ]
  },
  {
   "cell_type": "code",
   "execution_count": null,
   "metadata": {},
   "outputs": [],
   "source": []
  },
  {
   "cell_type": "markdown",
   "metadata": {},
   "source": [
    "### Create Word Cloud (for most common words in recommended not recommended reviews separately)"
   ]
  },
  {
   "cell_type": "code",
   "execution_count": null,
   "metadata": {},
   "outputs": [],
   "source": []
  },
  {
   "cell_type": "markdown",
   "metadata": {
    "id": "-9_e1A26CV3_"
   },
   "source": [
    "## 5. Sentiment Classification with Machine Learning\n",
    "\n",
    "Before moving on to modeling, as data preprocessing steps you will need to perform **[vectorization](https://machinelearningmastery.com/prepare-text-data-machine-learning-scikit-learn/)** and **train-test split**. You have performed many times train test split process before.\n",
    "But you will perform the vectorization for the first time.\n",
    "\n",
    "Machine learning algorithms most often take numeric feature vectors as input. Thus, when working with text documents, you need a way to convert each document into a numeric vector. This process is known as text vectorization. Commonly used vectorization approach that you will use here is to represent each text as a vector of word counts.\n",
    "\n",
    "At this moment, you have your review text column as a token (which has no punctuations and stopwords). You can use Scikit-learn’s CountVectorizer to convert the text collection into a matrix of token counts. You can imagine this resulting matrix as a 2-D matrix, where each row is a unique word, and each column is a review.\n",
    "\n",
    "Train all models using TFIDF and Count vectorizer data.\n",
    "\n",
    "After performing data preprocessing, build your models using following classification algorithms:\n",
    "\n",
    "- Logistic Regression,\n",
    "- Naive Bayes,\n",
    "- Support Vector Machine,\n",
    "- Random Forest,\n",
    "- Ada Boosting."
   ]
  },
  {
   "cell_type": "markdown",
   "metadata": {},
   "source": [
    "### Train - Test Split"
   ]
  },
  {
   "cell_type": "markdown",
   "metadata": {
    "id": "T2SMUUrxCV3_"
   },
   "source": [
    "To run machine learning algorithms we need to convert text files into numerical feature vectors. We will use bag of words model for our analysis.\n",
    "\n",
    "First we spliting the data into train and test sets:"
   ]
  },
  {
   "cell_type": "code",
   "execution_count": null,
   "metadata": {},
   "outputs": [],
   "source": []
  },
  {
   "cell_type": "markdown",
   "metadata": {
    "id": "adhWeL_iCV3_"
   },
   "source": [
    "In the next step we create a numerical feature vector for each document:"
   ]
  },
  {
   "cell_type": "markdown",
   "metadata": {},
   "source": [
    "### Vectorization"
   ]
  },
  {
   "cell_type": "code",
   "execution_count": null,
   "metadata": {},
   "outputs": [],
   "source": []
  },
  {
   "cell_type": "markdown",
   "metadata": {},
   "source": [
    "### TF-IDF"
   ]
  },
  {
   "cell_type": "code",
   "execution_count": null,
   "metadata": {},
   "outputs": [],
   "source": []
  },
  {
   "cell_type": "markdown",
   "metadata": {
    "id": "xaVrkxRpCV3_"
   },
   "source": [
    "### Logistic Regression"
   ]
  },
  {
   "cell_type": "code",
   "execution_count": null,
   "metadata": {},
   "outputs": [],
   "source": []
  },
  {
   "cell_type": "markdown",
   "metadata": {
    "id": "QACRU9G3CV4A"
   },
   "source": [
    "### Naive Bayes \n",
    "\n"
   ]
  },
  {
   "cell_type": "code",
   "execution_count": null,
   "metadata": {},
   "outputs": [],
   "source": []
  },
  {
   "cell_type": "markdown",
   "metadata": {
    "id": "OSkbnJJiCV4A"
   },
   "source": [
    "### Support Vector Machine (SVM)"
   ]
  },
  {
   "cell_type": "code",
   "execution_count": null,
   "metadata": {},
   "outputs": [],
   "source": []
  },
  {
   "cell_type": "markdown",
   "metadata": {
    "id": "qTECEchfCV4A"
   },
   "source": [
    "### Random Forest"
   ]
  },
  {
   "cell_type": "code",
   "execution_count": null,
   "metadata": {},
   "outputs": [],
   "source": []
  },
  {
   "cell_type": "markdown",
   "metadata": {
    "id": "sxaXp1WtCV4A"
   },
   "source": [
    "### Ada  Boosting"
   ]
  },
  {
   "cell_type": "code",
   "execution_count": null,
   "metadata": {},
   "outputs": [],
   "source": []
  },
  {
   "cell_type": "markdown",
   "metadata": {
    "id": "Hdc5JYOXCV4A"
   },
   "source": [
    "### Compare Models Accuracies and F1 Scores"
   ]
  },
  {
   "cell_type": "code",
   "execution_count": null,
   "metadata": {},
   "outputs": [],
   "source": []
  },
  {
   "cell_type": "markdown",
   "metadata": {
    "id": "mfUL4ZaXCV4A"
   },
   "source": [
    "### Conclusion"
   ]
  },
  {
   "cell_type": "markdown",
   "metadata": {
    "id": "xtHg-cs3CV4A"
   },
   "source": [
    "This project was aimed to used sentiment analysis to determined product recommendation. We started with the data engineering and text mining, which cover change text into tokens, remove punctuation, numbers, stop words and normalization them by using lemmatization. Following we used bag of words model to convert the text into numerical feature vectors. Finally we started training 5 different Classification models and we got the best accuracy of 0.88 for Logistic Regression method. "
   ]
  },
  {
   "cell_type": "code",
   "execution_count": null,
   "metadata": {
    "id": "gtY0hTdRCV4A"
   },
   "outputs": [],
   "source": []
  },
  {
   "cell_type": "markdown",
   "metadata": {},
   "source": [
    "___\n",
    "\n",
    "<p style=\"text-align: center;\"><img src=\"https://docs.google.com/uc?id=1lY0Uj5R04yMY3-ZppPWxqCr5pvBLYPnV\" class=\"img-fluid\" alt=\"CLRSWY\"></p>\n",
    "\n",
    "___"
   ]
  }
 ],
 "metadata": {
  "colab": {
   "collapsed_sections": [],
   "name": "Copy of sentiment_analysis_classifier.ipynb",
   "provenance": []
  },
  "kernelspec": {
   "display_name": "Python 3",
   "language": "python",
   "name": "python3"
  },
  "language_info": {
   "codemirror_mode": {
    "name": "ipython",
    "version": 3
   },
   "file_extension": ".py",
   "mimetype": "text/x-python",
   "name": "python",
   "nbconvert_exporter": "python",
   "pygments_lexer": "ipython3",
   "version": "3.7.6"
  }
 },
 "nbformat": 4,
 "nbformat_minor": 4
}
