{
 "cells": [
  {
   "cell_type": "markdown",
   "metadata": {
    "id": "GNJ8DeRtAzaB"
   },
   "source": [
    "___\n",
    "\n",
    "<p style=\"text-align: center;\"><img src=\"https://docs.google.com/uc?id=1lY0Uj5R04yMY3-ZppPWxqCr5pvBLYPnV\" class=\"img-fluid\" alt=\"CLRSWY\"></p>\n",
    "\n",
    "___"
   ]
  },
  {
   "cell_type": "markdown",
   "metadata": {
    "id": "iYlfU09rAzaI"
   },
   "source": [
    "# WELCOME!"
   ]
  },
  {
   "cell_type": "markdown",
   "metadata": {
    "id": "E5TMW6XaAzaJ"
   },
   "source": [
    "Welcome to ***\"Demand Prediction Project\"***. This is the third capstone project.\n",
    "As you know recently, free or affordable access to bicycles has been provided for short-distance trips in an urban area as an alternative to motorized public transport or private vehicles. Thus, it is aimed to reduce traffic congestion, noise and air pollution.\n",
    "\n",
    "In this project, the goal is to predict the number of future bike shares given the historical data of London bike shares. So this case should be handled as a time series problem with ***Bidirectional LSTM***. \n",
    "\n",
    "In order to achieve this goal, you will make predictions with LSTM, unlike the machine learning algorithms you have applied before. Long short term memory (LSTM) is an artificial repetitive neural network architecture used in the field of deep learning. Unlike standard feed forward neural networks, LSTM has feedback links. It can process not only single data points but also entire data series. \n",
    "\n",
    "Before diving into the project, please take a look at the Determines and Tasks.\n",
    "\n",
    "- **NOTE:** This tutorial assumes that you already know the basics of coding in Python and are familiar with the theory behind LSTM.\n",
    "\n"
   ]
  },
  {
   "cell_type": "markdown",
   "metadata": {
    "id": "0TZZ3Vc-AzaJ"
   },
   "source": [
    "---\n",
    "---"
   ]
  },
  {
   "cell_type": "markdown",
   "metadata": {
    "id": "mN0CH7VfAzaK"
   },
   "source": [
    "# #Determines\n",
    "\n",
    "\n",
    "\n",
    "#### Features\n",
    "\n",
    "- timestamp - timestamp field for grouping the data\n",
    "- cnt - the count of a new bike shares\n",
    "- t1 - real temperature in C\n",
    "- t2 - temperature in C “feels like”\n",
    "- hum - humidity in percentage\n",
    "- wind_speed - wind speed in km/h\n",
    "- weather_code - category of the weather\n",
    "- is_holiday - boolean field - 1 holiday / 0 non holiday\n",
    "- is_weekend - boolean field - 1 if the day is weekend\n",
    "- season - category field meteorological seasons: 0-spring ; 1-summer; 2-fall; 3-winter.\n",
    "\n",
    "\n",
    "---\n",
    "\n",
    "Initially, the task of discovering data will be waiting for you as always. Recognize features, detect missing values, outliers etc.\n",
    "\n",
    "Review the data from various angles in different time breakdowns. For example, visualize the distribution of bike shares by day of the week. With this graph, you will be able to easily observe and make inferences how people's behavior changes daily. Likewise, you can make hourly, monthly, seasonally etc. analyzes. In addition, you can analyze correlation of variables with a heatmap.\n",
    "\n",
    "In the Pre-Processing task after train test split and robust scaling, the challenge for you will be to divide the data into time steps and transform it into a three dimentional numpy array.\n",
    "\n",
    "Then in the model building task, build your model appropriate and compare the train and validation losses using a graph. \n",
    "\n",
    "When making prediction, you will need to do the inverse transform process to get a true error score. Otherwise, the results you get with scaled target variables may mislead you.\n",
    "\n",
    "Finally, Visualize how well your model's predictions match the actual values of the test data and also calculate error scores.\n",
    "\n",
    "\n",
    "- ***Note:*** *What you can do in this project is more than what is asked of you.*\n"
   ]
  },
  {
   "cell_type": "markdown",
   "metadata": {
    "id": "K9eNE2ugAzaK"
   },
   "source": [
    "# #Tasks\n",
    "\n",
    "#### 1. Exploratory Data Analysis\n",
    "\n",
    "- Check Missing Values and Outliers\n",
    "- Plot Breakdowns of Data\n",
    "\n",
    "    *i.  Plot bike shares over time*\n",
    "    \n",
    "    *ii.  Plot bike shares by months*\n",
    "    \n",
    "    *iii. Plot bike shares by hours*\n",
    "    \n",
    "    *iv. Plot bike shares by day of week*\n",
    "    \n",
    "    *v. Plot the distribution of bike shares on holidays by seasons*\n",
    "\n",
    "    \n",
    "#### 2. Data Pre-Processing\n",
    "\n",
    "- Train - Test Split\n",
    "- Scaling\n",
    "- Define a Function for Creating Time Steps\n",
    "\n",
    "#### 3. Model Building with LSTM\n",
    "\n",
    "- Create, Compile and Fit Bidirectional LSTM Model\n",
    "- Plot Train and Validation Losses\n",
    "\n",
    "#### 4. Demand Prediction\n",
    "\n",
    "- Inverse Transform\n",
    "- Plot Prediction\n",
    "- Calculate Train and Test Error Scores\n",
    "\n"
   ]
  },
  {
   "cell_type": "markdown",
   "metadata": {
    "id": "S3GuyVCDAzaM"
   },
   "source": [
    "---\n",
    "---"
   ]
  },
  {
   "cell_type": "markdown",
   "metadata": {
    "id": "NkFQRhw57EZP"
   },
   "source": [
    "## 1. Exploratory Data Analysis\n",
    "\n",
    "- Firstly, focus data based on the timestamp. You can create various variables such as, hour, day of week, day of month etc.\n",
    "- You can check missing values and outliers.\n",
    "- Also you can plot breakdowns of data."
   ]
  },
  {
   "cell_type": "code",
   "execution_count": 1,
   "metadata": {},
   "outputs": [],
   "source": [
    "import numpy as np\n",
    "import pandas as pd\n",
    "import matplotlib.pyplot as plt \n",
    "import seaborn as sns \n",
    "%matplotlib inline"
   ]
  },
  {
   "cell_type": "code",
   "execution_count": 2,
   "metadata": {},
   "outputs": [],
   "source": [
    "def explain(attribute):\n",
    "    features= {'timestamp':'timestamp field for grouping the data',\n",
    "'cnt':'the count of a new bike shares',\n",
    "'t1':'real temperature in C',\n",
    "'t2':'temperature in C feels like',\n",
    "'hum':'humidity in percentage',\n",
    "'wind_speed':'wind speed in km/h',\n",
    "'weather_code':'category of the weather',\n",
    "'is_holiday':'boolean field - 1 holiday / 0 non holiday',\n",
    "'is_weekend':'boolean field - 1 if the day is weekend',\n",
    "'season':'category field meteorological seasons: 0-spring ; 1-summer; 2-fall; 3-winter.'}\n",
    "    return features[attribute]"
   ]
  },
  {
   "cell_type": "code",
   "execution_count": 3,
   "metadata": {},
   "outputs": [],
   "source": [
    "df = pd.read_csv('store_sharing.csv')"
   ]
  },
  {
   "cell_type": "code",
   "execution_count": 4,
   "metadata": {},
   "outputs": [
    {
     "data": {
      "text/html": [
       "<div>\n",
       "<style scoped>\n",
       "    .dataframe tbody tr th:only-of-type {\n",
       "        vertical-align: middle;\n",
       "    }\n",
       "\n",
       "    .dataframe tbody tr th {\n",
       "        vertical-align: top;\n",
       "    }\n",
       "\n",
       "    .dataframe thead th {\n",
       "        text-align: right;\n",
       "    }\n",
       "</style>\n",
       "<table border=\"1\" class=\"dataframe\">\n",
       "  <thead>\n",
       "    <tr style=\"text-align: right;\">\n",
       "      <th></th>\n",
       "      <th>timestamp</th>\n",
       "      <th>cnt</th>\n",
       "      <th>t1</th>\n",
       "      <th>t2</th>\n",
       "      <th>hum</th>\n",
       "      <th>wind_speed</th>\n",
       "      <th>weather_code</th>\n",
       "      <th>is_holiday</th>\n",
       "      <th>is_weekend</th>\n",
       "      <th>season</th>\n",
       "    </tr>\n",
       "  </thead>\n",
       "  <tbody>\n",
       "    <tr>\n",
       "      <th>0</th>\n",
       "      <td>2015-01-04 00:00:00</td>\n",
       "      <td>182</td>\n",
       "      <td>3.0</td>\n",
       "      <td>2.0</td>\n",
       "      <td>93.0</td>\n",
       "      <td>6.0</td>\n",
       "      <td>3.0</td>\n",
       "      <td>0.0</td>\n",
       "      <td>1.0</td>\n",
       "      <td>3.0</td>\n",
       "    </tr>\n",
       "    <tr>\n",
       "      <th>1</th>\n",
       "      <td>2015-01-04 01:00:00</td>\n",
       "      <td>138</td>\n",
       "      <td>3.0</td>\n",
       "      <td>2.5</td>\n",
       "      <td>93.0</td>\n",
       "      <td>5.0</td>\n",
       "      <td>1.0</td>\n",
       "      <td>0.0</td>\n",
       "      <td>1.0</td>\n",
       "      <td>3.0</td>\n",
       "    </tr>\n",
       "    <tr>\n",
       "      <th>2</th>\n",
       "      <td>2015-01-04 02:00:00</td>\n",
       "      <td>134</td>\n",
       "      <td>2.5</td>\n",
       "      <td>2.5</td>\n",
       "      <td>96.5</td>\n",
       "      <td>0.0</td>\n",
       "      <td>1.0</td>\n",
       "      <td>0.0</td>\n",
       "      <td>1.0</td>\n",
       "      <td>3.0</td>\n",
       "    </tr>\n",
       "    <tr>\n",
       "      <th>3</th>\n",
       "      <td>2015-01-04 03:00:00</td>\n",
       "      <td>72</td>\n",
       "      <td>2.0</td>\n",
       "      <td>2.0</td>\n",
       "      <td>100.0</td>\n",
       "      <td>0.0</td>\n",
       "      <td>1.0</td>\n",
       "      <td>0.0</td>\n",
       "      <td>1.0</td>\n",
       "      <td>3.0</td>\n",
       "    </tr>\n",
       "    <tr>\n",
       "      <th>4</th>\n",
       "      <td>2015-01-04 04:00:00</td>\n",
       "      <td>47</td>\n",
       "      <td>2.0</td>\n",
       "      <td>0.0</td>\n",
       "      <td>93.0</td>\n",
       "      <td>6.5</td>\n",
       "      <td>1.0</td>\n",
       "      <td>0.0</td>\n",
       "      <td>1.0</td>\n",
       "      <td>3.0</td>\n",
       "    </tr>\n",
       "  </tbody>\n",
       "</table>\n",
       "</div>"
      ],
      "text/plain": [
       "             timestamp  cnt   t1   t2    hum  wind_speed  weather_code  \\\n",
       "0  2015-01-04 00:00:00  182  3.0  2.0   93.0         6.0           3.0   \n",
       "1  2015-01-04 01:00:00  138  3.0  2.5   93.0         5.0           1.0   \n",
       "2  2015-01-04 02:00:00  134  2.5  2.5   96.5         0.0           1.0   \n",
       "3  2015-01-04 03:00:00   72  2.0  2.0  100.0         0.0           1.0   \n",
       "4  2015-01-04 04:00:00   47  2.0  0.0   93.0         6.5           1.0   \n",
       "\n",
       "   is_holiday  is_weekend  season  \n",
       "0         0.0         1.0     3.0  \n",
       "1         0.0         1.0     3.0  \n",
       "2         0.0         1.0     3.0  \n",
       "3         0.0         1.0     3.0  \n",
       "4         0.0         1.0     3.0  "
      ]
     },
     "execution_count": 4,
     "metadata": {},
     "output_type": "execute_result"
    }
   ],
   "source": [
    "df.head()"
   ]
  },
  {
   "cell_type": "code",
   "execution_count": 5,
   "metadata": {},
   "outputs": [
    {
     "data": {
      "text/plain": [
       "(17414, 10)"
      ]
     },
     "execution_count": 5,
     "metadata": {},
     "output_type": "execute_result"
    }
   ],
   "source": [
    "df.shape"
   ]
  },
  {
   "cell_type": "code",
   "execution_count": 6,
   "metadata": {},
   "outputs": [
    {
     "name": "stdout",
     "output_type": "stream",
     "text": [
      "<class 'pandas.core.frame.DataFrame'>\n",
      "RangeIndex: 17414 entries, 0 to 17413\n",
      "Data columns (total 10 columns):\n",
      " #   Column        Non-Null Count  Dtype  \n",
      "---  ------        --------------  -----  \n",
      " 0   timestamp     17414 non-null  object \n",
      " 1   cnt           17414 non-null  int64  \n",
      " 2   t1            17414 non-null  float64\n",
      " 3   t2            17414 non-null  float64\n",
      " 4   hum           17414 non-null  float64\n",
      " 5   wind_speed    17414 non-null  float64\n",
      " 6   weather_code  17414 non-null  float64\n",
      " 7   is_holiday    17414 non-null  float64\n",
      " 8   is_weekend    17414 non-null  float64\n",
      " 9   season        17414 non-null  float64\n",
      "dtypes: float64(8), int64(1), object(1)\n",
      "memory usage: 1.3+ MB\n"
     ]
    }
   ],
   "source": [
    "df.info()"
   ]
  },
  {
   "cell_type": "code",
   "execution_count": 7,
   "metadata": {},
   "outputs": [
    {
     "data": {
      "text/html": [
       "<div>\n",
       "<style scoped>\n",
       "    .dataframe tbody tr th:only-of-type {\n",
       "        vertical-align: middle;\n",
       "    }\n",
       "\n",
       "    .dataframe tbody tr th {\n",
       "        vertical-align: top;\n",
       "    }\n",
       "\n",
       "    .dataframe thead th {\n",
       "        text-align: right;\n",
       "    }\n",
       "</style>\n",
       "<table border=\"1\" class=\"dataframe\">\n",
       "  <thead>\n",
       "    <tr style=\"text-align: right;\">\n",
       "      <th></th>\n",
       "      <th>count</th>\n",
       "      <th>mean</th>\n",
       "      <th>std</th>\n",
       "      <th>min</th>\n",
       "      <th>25%</th>\n",
       "      <th>50%</th>\n",
       "      <th>75%</th>\n",
       "      <th>max</th>\n",
       "    </tr>\n",
       "  </thead>\n",
       "  <tbody>\n",
       "    <tr>\n",
       "      <th>cnt</th>\n",
       "      <td>17414.0</td>\n",
       "      <td>1143.101642</td>\n",
       "      <td>1085.108068</td>\n",
       "      <td>0.0</td>\n",
       "      <td>257.0</td>\n",
       "      <td>844.0</td>\n",
       "      <td>1671.75</td>\n",
       "      <td>7860.0</td>\n",
       "    </tr>\n",
       "    <tr>\n",
       "      <th>t1</th>\n",
       "      <td>17414.0</td>\n",
       "      <td>12.468091</td>\n",
       "      <td>5.571818</td>\n",
       "      <td>-1.5</td>\n",
       "      <td>8.0</td>\n",
       "      <td>12.5</td>\n",
       "      <td>16.00</td>\n",
       "      <td>34.0</td>\n",
       "    </tr>\n",
       "    <tr>\n",
       "      <th>t2</th>\n",
       "      <td>17414.0</td>\n",
       "      <td>11.520836</td>\n",
       "      <td>6.615145</td>\n",
       "      <td>-6.0</td>\n",
       "      <td>6.0</td>\n",
       "      <td>12.5</td>\n",
       "      <td>16.00</td>\n",
       "      <td>34.0</td>\n",
       "    </tr>\n",
       "    <tr>\n",
       "      <th>hum</th>\n",
       "      <td>17414.0</td>\n",
       "      <td>72.324954</td>\n",
       "      <td>14.313186</td>\n",
       "      <td>20.5</td>\n",
       "      <td>63.0</td>\n",
       "      <td>74.5</td>\n",
       "      <td>83.00</td>\n",
       "      <td>100.0</td>\n",
       "    </tr>\n",
       "    <tr>\n",
       "      <th>wind_speed</th>\n",
       "      <td>17414.0</td>\n",
       "      <td>15.913063</td>\n",
       "      <td>7.894570</td>\n",
       "      <td>0.0</td>\n",
       "      <td>10.0</td>\n",
       "      <td>15.0</td>\n",
       "      <td>20.50</td>\n",
       "      <td>56.5</td>\n",
       "    </tr>\n",
       "    <tr>\n",
       "      <th>weather_code</th>\n",
       "      <td>17414.0</td>\n",
       "      <td>2.722752</td>\n",
       "      <td>2.341163</td>\n",
       "      <td>1.0</td>\n",
       "      <td>1.0</td>\n",
       "      <td>2.0</td>\n",
       "      <td>3.00</td>\n",
       "      <td>26.0</td>\n",
       "    </tr>\n",
       "    <tr>\n",
       "      <th>is_holiday</th>\n",
       "      <td>17414.0</td>\n",
       "      <td>0.022051</td>\n",
       "      <td>0.146854</td>\n",
       "      <td>0.0</td>\n",
       "      <td>0.0</td>\n",
       "      <td>0.0</td>\n",
       "      <td>0.00</td>\n",
       "      <td>1.0</td>\n",
       "    </tr>\n",
       "    <tr>\n",
       "      <th>is_weekend</th>\n",
       "      <td>17414.0</td>\n",
       "      <td>0.285403</td>\n",
       "      <td>0.451619</td>\n",
       "      <td>0.0</td>\n",
       "      <td>0.0</td>\n",
       "      <td>0.0</td>\n",
       "      <td>1.00</td>\n",
       "      <td>1.0</td>\n",
       "    </tr>\n",
       "    <tr>\n",
       "      <th>season</th>\n",
       "      <td>17414.0</td>\n",
       "      <td>1.492075</td>\n",
       "      <td>1.118911</td>\n",
       "      <td>0.0</td>\n",
       "      <td>0.0</td>\n",
       "      <td>1.0</td>\n",
       "      <td>2.00</td>\n",
       "      <td>3.0</td>\n",
       "    </tr>\n",
       "  </tbody>\n",
       "</table>\n",
       "</div>"
      ],
      "text/plain": [
       "                count         mean          std   min    25%    50%      75%  \\\n",
       "cnt           17414.0  1143.101642  1085.108068   0.0  257.0  844.0  1671.75   \n",
       "t1            17414.0    12.468091     5.571818  -1.5    8.0   12.5    16.00   \n",
       "t2            17414.0    11.520836     6.615145  -6.0    6.0   12.5    16.00   \n",
       "hum           17414.0    72.324954    14.313186  20.5   63.0   74.5    83.00   \n",
       "wind_speed    17414.0    15.913063     7.894570   0.0   10.0   15.0    20.50   \n",
       "weather_code  17414.0     2.722752     2.341163   1.0    1.0    2.0     3.00   \n",
       "is_holiday    17414.0     0.022051     0.146854   0.0    0.0    0.0     0.00   \n",
       "is_weekend    17414.0     0.285403     0.451619   0.0    0.0    0.0     1.00   \n",
       "season        17414.0     1.492075     1.118911   0.0    0.0    1.0     2.00   \n",
       "\n",
       "                 max  \n",
       "cnt           7860.0  \n",
       "t1              34.0  \n",
       "t2              34.0  \n",
       "hum            100.0  \n",
       "wind_speed      56.5  \n",
       "weather_code    26.0  \n",
       "is_holiday       1.0  \n",
       "is_weekend       1.0  \n",
       "season           3.0  "
      ]
     },
     "execution_count": 7,
     "metadata": {},
     "output_type": "execute_result"
    }
   ],
   "source": [
    "df.describe().T"
   ]
  },
  {
   "cell_type": "code",
   "execution_count": 8,
   "metadata": {},
   "outputs": [],
   "source": [
    "import datetime as dt"
   ]
  },
  {
   "cell_type": "code",
   "execution_count": 9,
   "metadata": {},
   "outputs": [],
   "source": [
    "df['timestamp'] = pd.to_datetime(df['timestamp'])"
   ]
  },
  {
   "cell_type": "code",
   "execution_count": 10,
   "metadata": {},
   "outputs": [
    {
     "data": {
      "text/html": [
       "<div>\n",
       "<style scoped>\n",
       "    .dataframe tbody tr th:only-of-type {\n",
       "        vertical-align: middle;\n",
       "    }\n",
       "\n",
       "    .dataframe tbody tr th {\n",
       "        vertical-align: top;\n",
       "    }\n",
       "\n",
       "    .dataframe thead th {\n",
       "        text-align: right;\n",
       "    }\n",
       "</style>\n",
       "<table border=\"1\" class=\"dataframe\">\n",
       "  <thead>\n",
       "    <tr style=\"text-align: right;\">\n",
       "      <th></th>\n",
       "      <th>timestamp</th>\n",
       "      <th>cnt</th>\n",
       "      <th>t1</th>\n",
       "      <th>t2</th>\n",
       "      <th>hum</th>\n",
       "      <th>wind_speed</th>\n",
       "      <th>weather_code</th>\n",
       "      <th>is_holiday</th>\n",
       "      <th>is_weekend</th>\n",
       "      <th>season</th>\n",
       "      <th>hour</th>\n",
       "    </tr>\n",
       "  </thead>\n",
       "  <tbody>\n",
       "    <tr>\n",
       "      <th>0</th>\n",
       "      <td>2015-01-04 00:00:00</td>\n",
       "      <td>182</td>\n",
       "      <td>3.0</td>\n",
       "      <td>2.0</td>\n",
       "      <td>93.0</td>\n",
       "      <td>6.0</td>\n",
       "      <td>3.0</td>\n",
       "      <td>0.0</td>\n",
       "      <td>1.0</td>\n",
       "      <td>3.0</td>\n",
       "      <td>0</td>\n",
       "    </tr>\n",
       "    <tr>\n",
       "      <th>1</th>\n",
       "      <td>2015-01-04 01:00:00</td>\n",
       "      <td>138</td>\n",
       "      <td>3.0</td>\n",
       "      <td>2.5</td>\n",
       "      <td>93.0</td>\n",
       "      <td>5.0</td>\n",
       "      <td>1.0</td>\n",
       "      <td>0.0</td>\n",
       "      <td>1.0</td>\n",
       "      <td>3.0</td>\n",
       "      <td>1</td>\n",
       "    </tr>\n",
       "  </tbody>\n",
       "</table>\n",
       "</div>"
      ],
      "text/plain": [
       "            timestamp  cnt   t1   t2   hum  wind_speed  weather_code  \\\n",
       "0 2015-01-04 00:00:00  182  3.0  2.0  93.0         6.0           3.0   \n",
       "1 2015-01-04 01:00:00  138  3.0  2.5  93.0         5.0           1.0   \n",
       "\n",
       "   is_holiday  is_weekend  season  hour  \n",
       "0         0.0         1.0     3.0     0  \n",
       "1         0.0         1.0     3.0     1  "
      ]
     },
     "execution_count": 10,
     "metadata": {},
     "output_type": "execute_result"
    }
   ],
   "source": [
    "df['hour'] = df['timestamp'].dt.hour\n",
    "df.head(2)"
   ]
  },
  {
   "cell_type": "code",
   "execution_count": 11,
   "metadata": {},
   "outputs": [
    {
     "data": {
      "text/html": [
       "<div>\n",
       "<style scoped>\n",
       "    .dataframe tbody tr th:only-of-type {\n",
       "        vertical-align: middle;\n",
       "    }\n",
       "\n",
       "    .dataframe tbody tr th {\n",
       "        vertical-align: top;\n",
       "    }\n",
       "\n",
       "    .dataframe thead th {\n",
       "        text-align: right;\n",
       "    }\n",
       "</style>\n",
       "<table border=\"1\" class=\"dataframe\">\n",
       "  <thead>\n",
       "    <tr style=\"text-align: right;\">\n",
       "      <th></th>\n",
       "      <th>timestamp</th>\n",
       "      <th>cnt</th>\n",
       "      <th>t1</th>\n",
       "      <th>t2</th>\n",
       "      <th>hum</th>\n",
       "      <th>wind_speed</th>\n",
       "      <th>weather_code</th>\n",
       "      <th>is_holiday</th>\n",
       "      <th>is_weekend</th>\n",
       "      <th>season</th>\n",
       "      <th>hour</th>\n",
       "      <th>day_of_week</th>\n",
       "    </tr>\n",
       "  </thead>\n",
       "  <tbody>\n",
       "    <tr>\n",
       "      <th>0</th>\n",
       "      <td>2015-01-04 00:00:00</td>\n",
       "      <td>182</td>\n",
       "      <td>3.0</td>\n",
       "      <td>2.0</td>\n",
       "      <td>93.0</td>\n",
       "      <td>6.0</td>\n",
       "      <td>3.0</td>\n",
       "      <td>0.0</td>\n",
       "      <td>1.0</td>\n",
       "      <td>3.0</td>\n",
       "      <td>0</td>\n",
       "      <td>6</td>\n",
       "    </tr>\n",
       "    <tr>\n",
       "      <th>1</th>\n",
       "      <td>2015-01-04 01:00:00</td>\n",
       "      <td>138</td>\n",
       "      <td>3.0</td>\n",
       "      <td>2.5</td>\n",
       "      <td>93.0</td>\n",
       "      <td>5.0</td>\n",
       "      <td>1.0</td>\n",
       "      <td>0.0</td>\n",
       "      <td>1.0</td>\n",
       "      <td>3.0</td>\n",
       "      <td>1</td>\n",
       "      <td>6</td>\n",
       "    </tr>\n",
       "  </tbody>\n",
       "</table>\n",
       "</div>"
      ],
      "text/plain": [
       "            timestamp  cnt   t1   t2   hum  wind_speed  weather_code  \\\n",
       "0 2015-01-04 00:00:00  182  3.0  2.0  93.0         6.0           3.0   \n",
       "1 2015-01-04 01:00:00  138  3.0  2.5  93.0         5.0           1.0   \n",
       "\n",
       "   is_holiday  is_weekend  season  hour  day_of_week  \n",
       "0         0.0         1.0     3.0     0            6  \n",
       "1         0.0         1.0     3.0     1            6  "
      ]
     },
     "execution_count": 11,
     "metadata": {},
     "output_type": "execute_result"
    }
   ],
   "source": [
    "df['day_of_week'] = df['timestamp'].dt.dayofweek\n",
    "df.head(2)"
   ]
  },
  {
   "cell_type": "code",
   "execution_count": 12,
   "metadata": {},
   "outputs": [],
   "source": [
    "df['day_of_month'] = df['timestamp'].dt.day"
   ]
  },
  {
   "cell_type": "code",
   "execution_count": 13,
   "metadata": {},
   "outputs": [],
   "source": [
    "df['month'] = df['timestamp'].dt.month"
   ]
  },
  {
   "cell_type": "code",
   "execution_count": 14,
   "metadata": {},
   "outputs": [
    {
     "data": {
      "text/html": [
       "<div>\n",
       "<style scoped>\n",
       "    .dataframe tbody tr th:only-of-type {\n",
       "        vertical-align: middle;\n",
       "    }\n",
       "\n",
       "    .dataframe tbody tr th {\n",
       "        vertical-align: top;\n",
       "    }\n",
       "\n",
       "    .dataframe thead th {\n",
       "        text-align: right;\n",
       "    }\n",
       "</style>\n",
       "<table border=\"1\" class=\"dataframe\">\n",
       "  <thead>\n",
       "    <tr style=\"text-align: right;\">\n",
       "      <th></th>\n",
       "      <th>timestamp</th>\n",
       "      <th>cnt</th>\n",
       "      <th>t1</th>\n",
       "      <th>t2</th>\n",
       "      <th>hum</th>\n",
       "      <th>wind_speed</th>\n",
       "      <th>weather_code</th>\n",
       "      <th>is_holiday</th>\n",
       "      <th>is_weekend</th>\n",
       "      <th>season</th>\n",
       "      <th>hour</th>\n",
       "      <th>day_of_week</th>\n",
       "      <th>day_of_month</th>\n",
       "      <th>month</th>\n",
       "    </tr>\n",
       "  </thead>\n",
       "  <tbody>\n",
       "    <tr>\n",
       "      <th>0</th>\n",
       "      <td>2015-01-04 00:00:00</td>\n",
       "      <td>182</td>\n",
       "      <td>3.0</td>\n",
       "      <td>2.0</td>\n",
       "      <td>93.0</td>\n",
       "      <td>6.0</td>\n",
       "      <td>3.0</td>\n",
       "      <td>0.0</td>\n",
       "      <td>1.0</td>\n",
       "      <td>3.0</td>\n",
       "      <td>0</td>\n",
       "      <td>6</td>\n",
       "      <td>4</td>\n",
       "      <td>1</td>\n",
       "    </tr>\n",
       "    <tr>\n",
       "      <th>1</th>\n",
       "      <td>2015-01-04 01:00:00</td>\n",
       "      <td>138</td>\n",
       "      <td>3.0</td>\n",
       "      <td>2.5</td>\n",
       "      <td>93.0</td>\n",
       "      <td>5.0</td>\n",
       "      <td>1.0</td>\n",
       "      <td>0.0</td>\n",
       "      <td>1.0</td>\n",
       "      <td>3.0</td>\n",
       "      <td>1</td>\n",
       "      <td>6</td>\n",
       "      <td>4</td>\n",
       "      <td>1</td>\n",
       "    </tr>\n",
       "    <tr>\n",
       "      <th>2</th>\n",
       "      <td>2015-01-04 02:00:00</td>\n",
       "      <td>134</td>\n",
       "      <td>2.5</td>\n",
       "      <td>2.5</td>\n",
       "      <td>96.5</td>\n",
       "      <td>0.0</td>\n",
       "      <td>1.0</td>\n",
       "      <td>0.0</td>\n",
       "      <td>1.0</td>\n",
       "      <td>3.0</td>\n",
       "      <td>2</td>\n",
       "      <td>6</td>\n",
       "      <td>4</td>\n",
       "      <td>1</td>\n",
       "    </tr>\n",
       "    <tr>\n",
       "      <th>3</th>\n",
       "      <td>2015-01-04 03:00:00</td>\n",
       "      <td>72</td>\n",
       "      <td>2.0</td>\n",
       "      <td>2.0</td>\n",
       "      <td>100.0</td>\n",
       "      <td>0.0</td>\n",
       "      <td>1.0</td>\n",
       "      <td>0.0</td>\n",
       "      <td>1.0</td>\n",
       "      <td>3.0</td>\n",
       "      <td>3</td>\n",
       "      <td>6</td>\n",
       "      <td>4</td>\n",
       "      <td>1</td>\n",
       "    </tr>\n",
       "    <tr>\n",
       "      <th>4</th>\n",
       "      <td>2015-01-04 04:00:00</td>\n",
       "      <td>47</td>\n",
       "      <td>2.0</td>\n",
       "      <td>0.0</td>\n",
       "      <td>93.0</td>\n",
       "      <td>6.5</td>\n",
       "      <td>1.0</td>\n",
       "      <td>0.0</td>\n",
       "      <td>1.0</td>\n",
       "      <td>3.0</td>\n",
       "      <td>4</td>\n",
       "      <td>6</td>\n",
       "      <td>4</td>\n",
       "      <td>1</td>\n",
       "    </tr>\n",
       "  </tbody>\n",
       "</table>\n",
       "</div>"
      ],
      "text/plain": [
       "            timestamp  cnt   t1   t2    hum  wind_speed  weather_code  \\\n",
       "0 2015-01-04 00:00:00  182  3.0  2.0   93.0         6.0           3.0   \n",
       "1 2015-01-04 01:00:00  138  3.0  2.5   93.0         5.0           1.0   \n",
       "2 2015-01-04 02:00:00  134  2.5  2.5   96.5         0.0           1.0   \n",
       "3 2015-01-04 03:00:00   72  2.0  2.0  100.0         0.0           1.0   \n",
       "4 2015-01-04 04:00:00   47  2.0  0.0   93.0         6.5           1.0   \n",
       "\n",
       "   is_holiday  is_weekend  season  hour  day_of_week  day_of_month  month  \n",
       "0         0.0         1.0     3.0     0            6             4      1  \n",
       "1         0.0         1.0     3.0     1            6             4      1  \n",
       "2         0.0         1.0     3.0     2            6             4      1  \n",
       "3         0.0         1.0     3.0     3            6             4      1  \n",
       "4         0.0         1.0     3.0     4            6             4      1  "
      ]
     },
     "execution_count": 14,
     "metadata": {},
     "output_type": "execute_result"
    }
   ],
   "source": [
    "df.head()"
   ]
  },
  {
   "cell_type": "markdown",
   "metadata": {
    "id": "pZLYLPStD6ld"
   },
   "source": [
    "### Check Missing Values and Outliers"
   ]
  },
  {
   "cell_type": "code",
   "execution_count": 15,
   "metadata": {
    "id": "JiqoDyVfAzaM"
   },
   "outputs": [
    {
     "data": {
      "text/plain": [
       "timestamp       0\n",
       "cnt             0\n",
       "t1              0\n",
       "t2              0\n",
       "hum             0\n",
       "wind_speed      0\n",
       "weather_code    0\n",
       "is_holiday      0\n",
       "is_weekend      0\n",
       "season          0\n",
       "hour            0\n",
       "day_of_week     0\n",
       "day_of_month    0\n",
       "month           0\n",
       "dtype: int64"
      ]
     },
     "execution_count": 15,
     "metadata": {},
     "output_type": "execute_result"
    }
   ],
   "source": [
    "df.isnull().sum()"
   ]
  },
  {
   "cell_type": "code",
   "execution_count": 16,
   "metadata": {},
   "outputs": [],
   "source": [
    "df2 = df.drop('timestamp', axis=1)"
   ]
  },
  {
   "cell_type": "code",
   "execution_count": 17,
   "metadata": {},
   "outputs": [
    {
     "data": {
      "text/html": [
       "<div>\n",
       "<style scoped>\n",
       "    .dataframe tbody tr th:only-of-type {\n",
       "        vertical-align: middle;\n",
       "    }\n",
       "\n",
       "    .dataframe tbody tr th {\n",
       "        vertical-align: top;\n",
       "    }\n",
       "\n",
       "    .dataframe thead th {\n",
       "        text-align: right;\n",
       "    }\n",
       "</style>\n",
       "<table border=\"1\" class=\"dataframe\">\n",
       "  <thead>\n",
       "    <tr style=\"text-align: right;\">\n",
       "      <th></th>\n",
       "      <th>timestamp</th>\n",
       "      <th>cnt</th>\n",
       "      <th>t1</th>\n",
       "      <th>t2</th>\n",
       "      <th>hum</th>\n",
       "      <th>wind_speed</th>\n",
       "      <th>weather_code</th>\n",
       "      <th>is_holiday</th>\n",
       "      <th>is_weekend</th>\n",
       "      <th>season</th>\n",
       "      <th>hour</th>\n",
       "      <th>day_of_week</th>\n",
       "      <th>day_of_month</th>\n",
       "      <th>month</th>\n",
       "    </tr>\n",
       "  </thead>\n",
       "  <tbody>\n",
       "    <tr>\n",
       "      <th>0</th>\n",
       "      <td>2015-01-04</td>\n",
       "      <td>182</td>\n",
       "      <td>3.0</td>\n",
       "      <td>2.0</td>\n",
       "      <td>93.0</td>\n",
       "      <td>6.0</td>\n",
       "      <td>3.0</td>\n",
       "      <td>0.0</td>\n",
       "      <td>1.0</td>\n",
       "      <td>3.0</td>\n",
       "      <td>0</td>\n",
       "      <td>6</td>\n",
       "      <td>4</td>\n",
       "      <td>1</td>\n",
       "    </tr>\n",
       "  </tbody>\n",
       "</table>\n",
       "</div>"
      ],
      "text/plain": [
       "   timestamp  cnt   t1   t2   hum  wind_speed  weather_code  is_holiday  \\\n",
       "0 2015-01-04  182  3.0  2.0  93.0         6.0           3.0         0.0   \n",
       "\n",
       "   is_weekend  season  hour  day_of_week  day_of_month  month  \n",
       "0         1.0     3.0     0            6             4      1  "
      ]
     },
     "execution_count": 17,
     "metadata": {},
     "output_type": "execute_result"
    }
   ],
   "source": [
    "df.head(1)"
   ]
  },
  {
   "cell_type": "code",
   "execution_count": 18,
   "metadata": {},
   "outputs": [
    {
     "data": {
      "text/html": [
       "<div>\n",
       "<style scoped>\n",
       "    .dataframe tbody tr th:only-of-type {\n",
       "        vertical-align: middle;\n",
       "    }\n",
       "\n",
       "    .dataframe tbody tr th {\n",
       "        vertical-align: top;\n",
       "    }\n",
       "\n",
       "    .dataframe thead th {\n",
       "        text-align: right;\n",
       "    }\n",
       "</style>\n",
       "<table border=\"1\" class=\"dataframe\">\n",
       "  <thead>\n",
       "    <tr style=\"text-align: right;\">\n",
       "      <th></th>\n",
       "      <th>cnt</th>\n",
       "      <th>t1</th>\n",
       "      <th>t2</th>\n",
       "      <th>hum</th>\n",
       "      <th>wind_speed</th>\n",
       "      <th>weather_code</th>\n",
       "      <th>is_holiday</th>\n",
       "      <th>is_weekend</th>\n",
       "      <th>season</th>\n",
       "      <th>hour</th>\n",
       "      <th>day_of_week</th>\n",
       "      <th>day_of_month</th>\n",
       "      <th>month</th>\n",
       "    </tr>\n",
       "  </thead>\n",
       "  <tbody>\n",
       "    <tr>\n",
       "      <th>0</th>\n",
       "      <td>182</td>\n",
       "      <td>3.0</td>\n",
       "      <td>2.0</td>\n",
       "      <td>93.0</td>\n",
       "      <td>6.0</td>\n",
       "      <td>3.0</td>\n",
       "      <td>0.0</td>\n",
       "      <td>1.0</td>\n",
       "      <td>3.0</td>\n",
       "      <td>0</td>\n",
       "      <td>6</td>\n",
       "      <td>4</td>\n",
       "      <td>1</td>\n",
       "    </tr>\n",
       "  </tbody>\n",
       "</table>\n",
       "</div>"
      ],
      "text/plain": [
       "   cnt   t1   t2   hum  wind_speed  weather_code  is_holiday  is_weekend  \\\n",
       "0  182  3.0  2.0  93.0         6.0           3.0         0.0         1.0   \n",
       "\n",
       "   season  hour  day_of_week  day_of_month  month  \n",
       "0     3.0     0            6             4      1  "
      ]
     },
     "execution_count": 18,
     "metadata": {},
     "output_type": "execute_result"
    }
   ],
   "source": [
    "df2.head(1)"
   ]
  },
  {
   "cell_type": "code",
   "execution_count": 19,
   "metadata": {},
   "outputs": [
    {
     "data": {
      "image/png": "[encoded data removed]",
      "text/plain": [
       "<Figure size 1440x432 with 4 Axes>"
      ]
     },
     "metadata": {
      "needs_background": "light"
     },
     "output_type": "display_data"
    }
   ],
   "source": [
    "plt.figure(figsize=(20,6))\n",
    "\n",
    "plt.subplot(1,4,1)\n",
    "sns.boxplot(df['season'], df['t1'])\n",
    "plt.title(\"t1 (Real Temp)\",fontdict={'fontsize':17})\n",
    "\n",
    "plt.subplot(1,4,2)\n",
    "sns.boxplot(df['season'], df['t2'])\n",
    "plt.title(\"t2 (Feeling Temp)\",fontdict={'fontsize':17})\n",
    "\n",
    "plt.subplot(1,4,3)\n",
    "sns.boxplot(df['season'], df['hum'])\n",
    "plt.title(\"Humidity\",fontdict={'fontsize':17})\n",
    "\n",
    "plt.subplot(1,4,4)\n",
    "sns.boxplot(df['season'], df['wind_speed'])\n",
    "plt.title(\"Wind Speed\",fontdict={'fontsize':17})\n",
    "plt.show()"
   ]
  },
  {
   "cell_type": "code",
   "execution_count": 20,
   "metadata": {},
   "outputs": [
    {
     "data": {
      "image/png": "[encoded data removed]",
      "text/plain": [
       "<Figure size 1080x360 with 5 Axes>"
      ]
     },
     "metadata": {
      "needs_background": "light"
     },
     "output_type": "display_data"
    }
   ],
   "source": [
    "plt.figure(figsize=(15,5))\n",
    "\n",
    "plt.subplot(1,5,1)\n",
    "sns.boxplot(y=df['cnt'])\n",
    "plt.title('Bike Shares Count')\n",
    "\n",
    "plt.subplot(1,5,2)\n",
    "sns.boxplot(y=df['t1'])\n",
    "plt.title('t1')\n",
    "\n",
    "plt.subplot(1,5,3)\n",
    "sns.boxplot(y=df['t2'])\n",
    "plt.title('t2')\n",
    "\n",
    "plt.subplot(1,5,4)\n",
    "sns.boxplot(y=df['hum'])\n",
    "plt.title('Humidity')\n",
    "\n",
    "plt.subplot(1,5,5)\n",
    "sns.boxplot(y=df['wind_speed'])\n",
    "plt.title('Wind Speed')\n",
    "plt.show()"
   ]
  },
  {
   "cell_type": "markdown",
   "metadata": {
    "id": "UC-8nALFAzaN"
   },
   "source": [
    "### Plot Breakdowns of Data"
   ]
  },
  {
   "cell_type": "markdown",
   "metadata": {
    "id": "gAALtK4OAzaN"
   },
   "source": [
    "***i. Plot bike shares over time***"
   ]
  },
  {
   "cell_type": "code",
   "execution_count": 21,
   "metadata": {
    "id": "GdYH3C7mAzaN"
   },
   "outputs": [
    {
     "data": {
      "text/plain": [
       "<matplotlib.axes._subplots.AxesSubplot at 0x150cfdc89c8>"
      ]
     },
     "execution_count": 21,
     "metadata": {},
     "output_type": "execute_result"
    },
    {
     "data": {
      "image/png": "[encoded data removed]",
      "text/plain": [
       "<Figure size 864x432 with 1 Axes>"
      ]
     },
     "metadata": {
      "needs_background": "light"
     },
     "output_type": "display_data"
    }
   ],
   "source": [
    "plt.figure(figsize=(12,6))\n",
    "sns.lineplot(x='timestamp', y='cnt', data=df)"
   ]
  },
  {
   "cell_type": "markdown",
   "metadata": {
    "id": "bl0unzOr9MWN"
   },
   "source": [
    "***ii. Plot bike shares by months***"
   ]
  },
  {
   "cell_type": "code",
   "execution_count": 22,
   "metadata": {
    "id": "SRm2dm6mAzaO"
   },
   "outputs": [
    {
     "data": {
      "text/plain": [
       "<matplotlib.axes._subplots.AxesSubplot at 0x150cff30448>"
      ]
     },
     "execution_count": 22,
     "metadata": {},
     "output_type": "execute_result"
    },
    {
     "data": {
      "image/png": "[encoded data removed]",
      "text/plain": [
       "<Figure size 864x432 with 1 Axes>"
      ]
     },
     "metadata": {
      "needs_background": "light"
     },
     "output_type": "display_data"
    }
   ],
   "source": [
    "plt.figure(figsize=(12,6))\n",
    "sns.lineplot(x='month', y='cnt', data=df2)"
   ]
  },
  {
   "cell_type": "code",
   "execution_count": 23,
   "metadata": {},
   "outputs": [
    {
     "data": {
      "text/html": [
       "<div>\n",
       "<style scoped>\n",
       "    .dataframe tbody tr th:only-of-type {\n",
       "        vertical-align: middle;\n",
       "    }\n",
       "\n",
       "    .dataframe tbody tr th {\n",
       "        vertical-align: top;\n",
       "    }\n",
       "\n",
       "    .dataframe thead th {\n",
       "        text-align: right;\n",
       "    }\n",
       "</style>\n",
       "<table border=\"1\" class=\"dataframe\">\n",
       "  <thead>\n",
       "    <tr style=\"text-align: right;\">\n",
       "      <th></th>\n",
       "      <th>cnt</th>\n",
       "      <th>t1</th>\n",
       "      <th>t2</th>\n",
       "      <th>hum</th>\n",
       "      <th>wind_speed</th>\n",
       "      <th>weather_code</th>\n",
       "      <th>is_holiday</th>\n",
       "      <th>is_weekend</th>\n",
       "      <th>season</th>\n",
       "      <th>hour</th>\n",
       "      <th>day_of_week</th>\n",
       "      <th>day_of_month</th>\n",
       "      <th>month</th>\n",
       "      <th>month_year</th>\n",
       "    </tr>\n",
       "  </thead>\n",
       "  <tbody>\n",
       "    <tr>\n",
       "      <th>0</th>\n",
       "      <td>182</td>\n",
       "      <td>3.0</td>\n",
       "      <td>2.0</td>\n",
       "      <td>93.0</td>\n",
       "      <td>6.0</td>\n",
       "      <td>3.0</td>\n",
       "      <td>0.0</td>\n",
       "      <td>1.0</td>\n",
       "      <td>3.0</td>\n",
       "      <td>0</td>\n",
       "      <td>6</td>\n",
       "      <td>4</td>\n",
       "      <td>1</td>\n",
       "      <td>2015-01</td>\n",
       "    </tr>\n",
       "    <tr>\n",
       "      <th>1</th>\n",
       "      <td>138</td>\n",
       "      <td>3.0</td>\n",
       "      <td>2.5</td>\n",
       "      <td>93.0</td>\n",
       "      <td>5.0</td>\n",
       "      <td>1.0</td>\n",
       "      <td>0.0</td>\n",
       "      <td>1.0</td>\n",
       "      <td>3.0</td>\n",
       "      <td>1</td>\n",
       "      <td>6</td>\n",
       "      <td>4</td>\n",
       "      <td>1</td>\n",
       "      <td>2015-01</td>\n",
       "    </tr>\n",
       "    <tr>\n",
       "      <th>2</th>\n",
       "      <td>134</td>\n",
       "      <td>2.5</td>\n",
       "      <td>2.5</td>\n",
       "      <td>96.5</td>\n",
       "      <td>0.0</td>\n",
       "      <td>1.0</td>\n",
       "      <td>0.0</td>\n",
       "      <td>1.0</td>\n",
       "      <td>3.0</td>\n",
       "      <td>2</td>\n",
       "      <td>6</td>\n",
       "      <td>4</td>\n",
       "      <td>1</td>\n",
       "      <td>2015-01</td>\n",
       "    </tr>\n",
       "    <tr>\n",
       "      <th>3</th>\n",
       "      <td>72</td>\n",
       "      <td>2.0</td>\n",
       "      <td>2.0</td>\n",
       "      <td>100.0</td>\n",
       "      <td>0.0</td>\n",
       "      <td>1.0</td>\n",
       "      <td>0.0</td>\n",
       "      <td>1.0</td>\n",
       "      <td>3.0</td>\n",
       "      <td>3</td>\n",
       "      <td>6</td>\n",
       "      <td>4</td>\n",
       "      <td>1</td>\n",
       "      <td>2015-01</td>\n",
       "    </tr>\n",
       "    <tr>\n",
       "      <th>4</th>\n",
       "      <td>47</td>\n",
       "      <td>2.0</td>\n",
       "      <td>0.0</td>\n",
       "      <td>93.0</td>\n",
       "      <td>6.5</td>\n",
       "      <td>1.0</td>\n",
       "      <td>0.0</td>\n",
       "      <td>1.0</td>\n",
       "      <td>3.0</td>\n",
       "      <td>4</td>\n",
       "      <td>6</td>\n",
       "      <td>4</td>\n",
       "      <td>1</td>\n",
       "      <td>2015-01</td>\n",
       "    </tr>\n",
       "  </tbody>\n",
       "</table>\n",
       "</div>"
      ],
      "text/plain": [
       "   cnt   t1   t2    hum  wind_speed  weather_code  is_holiday  is_weekend  \\\n",
       "0  182  3.0  2.0   93.0         6.0           3.0         0.0         1.0   \n",
       "1  138  3.0  2.5   93.0         5.0           1.0         0.0         1.0   \n",
       "2  134  2.5  2.5   96.5         0.0           1.0         0.0         1.0   \n",
       "3   72  2.0  2.0  100.0         0.0           1.0         0.0         1.0   \n",
       "4   47  2.0  0.0   93.0         6.5           1.0         0.0         1.0   \n",
       "\n",
       "   season  hour  day_of_week  day_of_month  month month_year  \n",
       "0     3.0     0            6             4      1    2015-01  \n",
       "1     3.0     1            6             4      1    2015-01  \n",
       "2     3.0     2            6             4      1    2015-01  \n",
       "3     3.0     3            6             4      1    2015-01  \n",
       "4     3.0     4            6             4      1    2015-01  "
      ]
     },
     "execution_count": 23,
     "metadata": {},
     "output_type": "execute_result"
    }
   ],
   "source": [
    "df2['month_year'] = pd.to_datetime(df['timestamp']).dt.to_period('M')\n",
    "df2.head()"
   ]
  },
  {
   "cell_type": "code",
   "execution_count": 24,
   "metadata": {},
   "outputs": [
    {
     "data": {
      "text/html": [
       "<div>\n",
       "<style scoped>\n",
       "    .dataframe tbody tr th:only-of-type {\n",
       "        vertical-align: middle;\n",
       "    }\n",
       "\n",
       "    .dataframe tbody tr th {\n",
       "        vertical-align: top;\n",
       "    }\n",
       "\n",
       "    .dataframe thead th {\n",
       "        text-align: right;\n",
       "    }\n",
       "</style>\n",
       "<table border=\"1\" class=\"dataframe\">\n",
       "  <thead>\n",
       "    <tr style=\"text-align: right;\">\n",
       "      <th></th>\n",
       "      <th>timestamp</th>\n",
       "      <th>cnt</th>\n",
       "      <th>t1</th>\n",
       "      <th>t2</th>\n",
       "      <th>hum</th>\n",
       "      <th>wind_speed</th>\n",
       "      <th>weather_code</th>\n",
       "      <th>is_holiday</th>\n",
       "      <th>is_weekend</th>\n",
       "      <th>season</th>\n",
       "      <th>hour</th>\n",
       "      <th>day_of_week</th>\n",
       "      <th>day_of_month</th>\n",
       "      <th>month</th>\n",
       "    </tr>\n",
       "  </thead>\n",
       "  <tbody>\n",
       "    <tr>\n",
       "      <th>17409</th>\n",
       "      <td>2017-01-03 19:00:00</td>\n",
       "      <td>1042</td>\n",
       "      <td>5.0</td>\n",
       "      <td>1.0</td>\n",
       "      <td>81.0</td>\n",
       "      <td>19.0</td>\n",
       "      <td>3.0</td>\n",
       "      <td>0.0</td>\n",
       "      <td>0.0</td>\n",
       "      <td>3.0</td>\n",
       "      <td>19</td>\n",
       "      <td>1</td>\n",
       "      <td>3</td>\n",
       "      <td>1</td>\n",
       "    </tr>\n",
       "    <tr>\n",
       "      <th>17410</th>\n",
       "      <td>2017-01-03 20:00:00</td>\n",
       "      <td>541</td>\n",
       "      <td>5.0</td>\n",
       "      <td>1.0</td>\n",
       "      <td>81.0</td>\n",
       "      <td>21.0</td>\n",
       "      <td>4.0</td>\n",
       "      <td>0.0</td>\n",
       "      <td>0.0</td>\n",
       "      <td>3.0</td>\n",
       "      <td>20</td>\n",
       "      <td>1</td>\n",
       "      <td>3</td>\n",
       "      <td>1</td>\n",
       "    </tr>\n",
       "    <tr>\n",
       "      <th>17411</th>\n",
       "      <td>2017-01-03 21:00:00</td>\n",
       "      <td>337</td>\n",
       "      <td>5.5</td>\n",
       "      <td>1.5</td>\n",
       "      <td>78.5</td>\n",
       "      <td>24.0</td>\n",
       "      <td>4.0</td>\n",
       "      <td>0.0</td>\n",
       "      <td>0.0</td>\n",
       "      <td>3.0</td>\n",
       "      <td>21</td>\n",
       "      <td>1</td>\n",
       "      <td>3</td>\n",
       "      <td>1</td>\n",
       "    </tr>\n",
       "    <tr>\n",
       "      <th>17412</th>\n",
       "      <td>2017-01-03 22:00:00</td>\n",
       "      <td>224</td>\n",
       "      <td>5.5</td>\n",
       "      <td>1.5</td>\n",
       "      <td>76.0</td>\n",
       "      <td>23.0</td>\n",
       "      <td>4.0</td>\n",
       "      <td>0.0</td>\n",
       "      <td>0.0</td>\n",
       "      <td>3.0</td>\n",
       "      <td>22</td>\n",
       "      <td>1</td>\n",
       "      <td>3</td>\n",
       "      <td>1</td>\n",
       "    </tr>\n",
       "    <tr>\n",
       "      <th>17413</th>\n",
       "      <td>2017-01-03 23:00:00</td>\n",
       "      <td>139</td>\n",
       "      <td>5.0</td>\n",
       "      <td>1.0</td>\n",
       "      <td>76.0</td>\n",
       "      <td>22.0</td>\n",
       "      <td>2.0</td>\n",
       "      <td>0.0</td>\n",
       "      <td>0.0</td>\n",
       "      <td>3.0</td>\n",
       "      <td>23</td>\n",
       "      <td>1</td>\n",
       "      <td>3</td>\n",
       "      <td>1</td>\n",
       "    </tr>\n",
       "  </tbody>\n",
       "</table>\n",
       "</div>"
      ],
      "text/plain": [
       "                timestamp   cnt   t1   t2   hum  wind_speed  weather_code  \\\n",
       "17409 2017-01-03 19:00:00  1042  5.0  1.0  81.0        19.0           3.0   \n",
       "17410 2017-01-03 20:00:00   541  5.0  1.0  81.0        21.0           4.0   \n",
       "17411 2017-01-03 21:00:00   337  5.5  1.5  78.5        24.0           4.0   \n",
       "17412 2017-01-03 22:00:00   224  5.5  1.5  76.0        23.0           4.0   \n",
       "17413 2017-01-03 23:00:00   139  5.0  1.0  76.0        22.0           2.0   \n",
       "\n",
       "       is_holiday  is_weekend  season  hour  day_of_week  day_of_month  month  \n",
       "17409         0.0         0.0     3.0    19            1             3      1  \n",
       "17410         0.0         0.0     3.0    20            1             3      1  \n",
       "17411         0.0         0.0     3.0    21            1             3      1  \n",
       "17412         0.0         0.0     3.0    22            1             3      1  \n",
       "17413         0.0         0.0     3.0    23            1             3      1  "
      ]
     },
     "execution_count": 24,
     "metadata": {},
     "output_type": "execute_result"
    }
   ],
   "source": [
    "df.tail()"
   ]
  },
  {
   "cell_type": "code",
   "execution_count": 25,
   "metadata": {},
   "outputs": [
    {
     "data": {
      "text/html": [
       "<div>\n",
       "<style scoped>\n",
       "    .dataframe tbody tr th:only-of-type {\n",
       "        vertical-align: middle;\n",
       "    }\n",
       "\n",
       "    .dataframe tbody tr th {\n",
       "        vertical-align: top;\n",
       "    }\n",
       "\n",
       "    .dataframe thead th {\n",
       "        text-align: right;\n",
       "    }\n",
       "</style>\n",
       "<table border=\"1\" class=\"dataframe\">\n",
       "  <thead>\n",
       "    <tr style=\"text-align: right;\">\n",
       "      <th></th>\n",
       "      <th>cnt</th>\n",
       "      <th>t1</th>\n",
       "      <th>t2</th>\n",
       "      <th>hum</th>\n",
       "      <th>wind_speed</th>\n",
       "      <th>weather_code</th>\n",
       "      <th>is_holiday</th>\n",
       "      <th>is_weekend</th>\n",
       "      <th>season</th>\n",
       "      <th>hour</th>\n",
       "      <th>day_of_week</th>\n",
       "      <th>day_of_month</th>\n",
       "      <th>month</th>\n",
       "      <th>month_year</th>\n",
       "    </tr>\n",
       "  </thead>\n",
       "  <tbody>\n",
       "    <tr>\n",
       "      <th>17409</th>\n",
       "      <td>1042</td>\n",
       "      <td>5.0</td>\n",
       "      <td>1.0</td>\n",
       "      <td>81.0</td>\n",
       "      <td>19.0</td>\n",
       "      <td>3.0</td>\n",
       "      <td>0.0</td>\n",
       "      <td>0.0</td>\n",
       "      <td>3.0</td>\n",
       "      <td>19</td>\n",
       "      <td>1</td>\n",
       "      <td>3</td>\n",
       "      <td>1</td>\n",
       "      <td>2017-01</td>\n",
       "    </tr>\n",
       "    <tr>\n",
       "      <th>17410</th>\n",
       "      <td>541</td>\n",
       "      <td>5.0</td>\n",
       "      <td>1.0</td>\n",
       "      <td>81.0</td>\n",
       "      <td>21.0</td>\n",
       "      <td>4.0</td>\n",
       "      <td>0.0</td>\n",
       "      <td>0.0</td>\n",
       "      <td>3.0</td>\n",
       "      <td>20</td>\n",
       "      <td>1</td>\n",
       "      <td>3</td>\n",
       "      <td>1</td>\n",
       "      <td>2017-01</td>\n",
       "    </tr>\n",
       "    <tr>\n",
       "      <th>17411</th>\n",
       "      <td>337</td>\n",
       "      <td>5.5</td>\n",
       "      <td>1.5</td>\n",
       "      <td>78.5</td>\n",
       "      <td>24.0</td>\n",
       "      <td>4.0</td>\n",
       "      <td>0.0</td>\n",
       "      <td>0.0</td>\n",
       "      <td>3.0</td>\n",
       "      <td>21</td>\n",
       "      <td>1</td>\n",
       "      <td>3</td>\n",
       "      <td>1</td>\n",
       "      <td>2017-01</td>\n",
       "    </tr>\n",
       "    <tr>\n",
       "      <th>17412</th>\n",
       "      <td>224</td>\n",
       "      <td>5.5</td>\n",
       "      <td>1.5</td>\n",
       "      <td>76.0</td>\n",
       "      <td>23.0</td>\n",
       "      <td>4.0</td>\n",
       "      <td>0.0</td>\n",
       "      <td>0.0</td>\n",
       "      <td>3.0</td>\n",
       "      <td>22</td>\n",
       "      <td>1</td>\n",
       "      <td>3</td>\n",
       "      <td>1</td>\n",
       "      <td>2017-01</td>\n",
       "    </tr>\n",
       "    <tr>\n",
       "      <th>17413</th>\n",
       "      <td>139</td>\n",
       "      <td>5.0</td>\n",
       "      <td>1.0</td>\n",
       "      <td>76.0</td>\n",
       "      <td>22.0</td>\n",
       "      <td>2.0</td>\n",
       "      <td>0.0</td>\n",
       "      <td>0.0</td>\n",
       "      <td>3.0</td>\n",
       "      <td>23</td>\n",
       "      <td>1</td>\n",
       "      <td>3</td>\n",
       "      <td>1</td>\n",
       "      <td>2017-01</td>\n",
       "    </tr>\n",
       "  </tbody>\n",
       "</table>\n",
       "</div>"
      ],
      "text/plain": [
       "        cnt   t1   t2   hum  wind_speed  weather_code  is_holiday  is_weekend  \\\n",
       "17409  1042  5.0  1.0  81.0        19.0           3.0         0.0         0.0   \n",
       "17410   541  5.0  1.0  81.0        21.0           4.0         0.0         0.0   \n",
       "17411   337  5.5  1.5  78.5        24.0           4.0         0.0         0.0   \n",
       "17412   224  5.5  1.5  76.0        23.0           4.0         0.0         0.0   \n",
       "17413   139  5.0  1.0  76.0        22.0           2.0         0.0         0.0   \n",
       "\n",
       "       season  hour  day_of_week  day_of_month  month month_year  \n",
       "17409     3.0    19            1             3      1    2017-01  \n",
       "17410     3.0    20            1             3      1    2017-01  \n",
       "17411     3.0    21            1             3      1    2017-01  \n",
       "17412     3.0    22            1             3      1    2017-01  \n",
       "17413     3.0    23            1             3      1    2017-01  "
      ]
     },
     "execution_count": 25,
     "metadata": {},
     "output_type": "execute_result"
    }
   ],
   "source": [
    "df2.tail()"
   ]
  },
  {
   "cell_type": "code",
   "execution_count": 26,
   "metadata": {},
   "outputs": [],
   "source": [
    "df_sum=pd.DataFrame(df2.groupby('month_year').cnt.sum())"
   ]
  },
  {
   "cell_type": "code",
   "execution_count": 27,
   "metadata": {},
   "outputs": [
    {
     "data": {
      "text/html": [
       "<div>\n",
       "<style scoped>\n",
       "    .dataframe tbody tr th:only-of-type {\n",
       "        vertical-align: middle;\n",
       "    }\n",
       "\n",
       "    .dataframe tbody tr th {\n",
       "        vertical-align: top;\n",
       "    }\n",
       "\n",
       "    .dataframe thead th {\n",
       "        text-align: right;\n",
       "    }\n",
       "</style>\n",
       "<table border=\"1\" class=\"dataframe\">\n",
       "  <thead>\n",
       "    <tr style=\"text-align: right;\">\n",
       "      <th></th>\n",
       "      <th>cnt</th>\n",
       "    </tr>\n",
       "    <tr>\n",
       "      <th>month_year</th>\n",
       "      <th></th>\n",
       "    </tr>\n",
       "  </thead>\n",
       "  <tbody>\n",
       "    <tr>\n",
       "      <th>2015-01</th>\n",
       "      <td>546639</td>\n",
       "    </tr>\n",
       "    <tr>\n",
       "      <th>2015-02</th>\n",
       "      <td>543594</td>\n",
       "    </tr>\n",
       "  </tbody>\n",
       "</table>\n",
       "</div>"
      ],
      "text/plain": [
       "               cnt\n",
       "month_year        \n",
       "2015-01     546639\n",
       "2015-02     543594"
      ]
     },
     "execution_count": 27,
     "metadata": {},
     "output_type": "execute_result"
    }
   ],
   "source": [
    "df_sum.head(2)"
   ]
  },
  {
   "cell_type": "code",
   "execution_count": 28,
   "metadata": {},
   "outputs": [
    {
     "data": {
      "text/plain": [
       "<matplotlib.axes._subplots.AxesSubplot at 0x150cfdb95c8>"
      ]
     },
     "execution_count": 28,
     "metadata": {},
     "output_type": "execute_result"
    },
    {
     "data": {
      "image/png": "[encoded data removed]",
      "text/plain": [
       "<Figure size 432x288 with 1 Axes>"
      ]
     },
     "metadata": {
      "needs_background": "light"
     },
     "output_type": "display_data"
    }
   ],
   "source": [
    "df_sum.plot(y='cnt')"
   ]
  },
  {
   "cell_type": "markdown",
   "metadata": {
    "id": "4E1AiBafAzaO"
   },
   "source": [
    "***iii. Plot bike shares by hours***\n",
    "- *whether it is a holiday or not*\n",
    "- *You may want to see seasonal breakdowns*"
   ]
  },
  {
   "cell_type": "code",
   "execution_count": 29,
   "metadata": {
    "id": "V3uYpBDPAzaO"
   },
   "outputs": [
    {
     "data": {
      "text/plain": [
       "<matplotlib.axes._subplots.AxesSubplot at 0x150cfb90a08>"
      ]
     },
     "execution_count": 29,
     "metadata": {},
     "output_type": "execute_result"
    },
    {
     "data": {
      "image/png": "[encoded data removed]",
      "text/plain": [
       "<Figure size 864x432 with 1 Axes>"
      ]
     },
     "metadata": {
      "needs_background": "light"
     },
     "output_type": "display_data"
    }
   ],
   "source": [
    "plt.figure(figsize=(12,6))\n",
    "sns.pointplot(x='hour', y='cnt', hue='season', data=df2)"
   ]
  },
  {
   "cell_type": "markdown",
   "metadata": {
    "id": "QzP5i5wrAzaO"
   },
   "source": [
    "***iv. Plot bike shares by day of week***\n",
    "- *You may want to see seasonal breakdowns*"
   ]
  },
  {
   "cell_type": "code",
   "execution_count": 30,
   "metadata": {
    "id": "II8RE6BJAzaP"
   },
   "outputs": [
    {
     "data": {
      "text/plain": [
       "<matplotlib.axes._subplots.AxesSubplot at 0x150cfa1c648>"
      ]
     },
     "execution_count": 30,
     "metadata": {},
     "output_type": "execute_result"
    },
    {
     "data": {
      "image/png": "[encoded data removed]",
      "text/plain": [
       "<Figure size 864x432 with 1 Axes>"
      ]
     },
     "metadata": {
      "needs_background": "light"
     },
     "output_type": "display_data"
    }
   ],
   "source": [
    "plt.figure(figsize=(12,6))\n",
    "sns.pointplot(x='day_of_week', y='cnt', hue='season', data=df2)"
   ]
  },
  {
   "cell_type": "markdown",
   "metadata": {
    "id": "1bJcdnrDAzaP"
   },
   "source": [
    "***v. Plot the distribution of bike shares on holidays by seasons***"
   ]
  },
  {
   "cell_type": "code",
   "execution_count": 31,
   "metadata": {
    "id": "k71S-0qDAzaP"
   },
   "outputs": [
    {
     "data": {
      "text/plain": [
       "<matplotlib.axes._subplots.AxesSubplot at 0x150cfc7a108>"
      ]
     },
     "execution_count": 31,
     "metadata": {},
     "output_type": "execute_result"
    },
    {
     "data": {
      "image/png": "[encoded data removed]",
      "text/plain": [
       "<Figure size 864x432 with 1 Axes>"
      ]
     },
     "metadata": {
      "needs_background": "light"
     },
     "output_type": "display_data"
    }
   ],
   "source": [
    "plt.figure(figsize=(12,6))\n",
    "sns.pointplot(x='is_holiday', y='cnt', hue='season', data=df2)"
   ]
  },
  {
   "cell_type": "markdown",
   "metadata": {
    "id": "cAy0ZgMYAzaP"
   },
   "source": [
    "---\n",
    "---"
   ]
  },
  {
   "cell_type": "markdown",
   "metadata": {
    "id": "Qa2DEC4ccbDM"
   },
   "source": [
    "## 2. Data Pre-Processing\n"
   ]
  },
  {
   "cell_type": "markdown",
   "metadata": {
    "id": "yhBLGnhrAzaQ"
   },
   "source": [
    "### Train - Test Split\n",
    "\n",
    "Appropriately split the data for optimum training."
   ]
  },
  {
   "cell_type": "code",
   "execution_count": 32,
   "metadata": {
    "id": "ZYcHKWsoAzaQ"
   },
   "outputs": [
    {
     "data": {
      "text/html": [
       "<div>\n",
       "<style scoped>\n",
       "    .dataframe tbody tr th:only-of-type {\n",
       "        vertical-align: middle;\n",
       "    }\n",
       "\n",
       "    .dataframe tbody tr th {\n",
       "        vertical-align: top;\n",
       "    }\n",
       "\n",
       "    .dataframe thead th {\n",
       "        text-align: right;\n",
       "    }\n",
       "</style>\n",
       "<table border=\"1\" class=\"dataframe\">\n",
       "  <thead>\n",
       "    <tr style=\"text-align: right;\">\n",
       "      <th></th>\n",
       "      <th>timestamp</th>\n",
       "      <th>cnt</th>\n",
       "      <th>t1</th>\n",
       "      <th>t2</th>\n",
       "      <th>hum</th>\n",
       "      <th>wind_speed</th>\n",
       "      <th>weather_code</th>\n",
       "      <th>is_holiday</th>\n",
       "      <th>is_weekend</th>\n",
       "      <th>season</th>\n",
       "      <th>hour</th>\n",
       "      <th>day_of_week</th>\n",
       "      <th>day_of_month</th>\n",
       "      <th>month</th>\n",
       "    </tr>\n",
       "  </thead>\n",
       "  <tbody>\n",
       "    <tr>\n",
       "      <th>0</th>\n",
       "      <td>2015-01-04 00:00:00</td>\n",
       "      <td>182</td>\n",
       "      <td>3.0</td>\n",
       "      <td>2.0</td>\n",
       "      <td>93.0</td>\n",
       "      <td>6.0</td>\n",
       "      <td>3.0</td>\n",
       "      <td>0.0</td>\n",
       "      <td>1.0</td>\n",
       "      <td>3.0</td>\n",
       "      <td>0</td>\n",
       "      <td>6</td>\n",
       "      <td>4</td>\n",
       "      <td>1</td>\n",
       "    </tr>\n",
       "    <tr>\n",
       "      <th>1</th>\n",
       "      <td>2015-01-04 01:00:00</td>\n",
       "      <td>138</td>\n",
       "      <td>3.0</td>\n",
       "      <td>2.5</td>\n",
       "      <td>93.0</td>\n",
       "      <td>5.0</td>\n",
       "      <td>1.0</td>\n",
       "      <td>0.0</td>\n",
       "      <td>1.0</td>\n",
       "      <td>3.0</td>\n",
       "      <td>1</td>\n",
       "      <td>6</td>\n",
       "      <td>4</td>\n",
       "      <td>1</td>\n",
       "    </tr>\n",
       "    <tr>\n",
       "      <th>2</th>\n",
       "      <td>2015-01-04 02:00:00</td>\n",
       "      <td>134</td>\n",
       "      <td>2.5</td>\n",
       "      <td>2.5</td>\n",
       "      <td>96.5</td>\n",
       "      <td>0.0</td>\n",
       "      <td>1.0</td>\n",
       "      <td>0.0</td>\n",
       "      <td>1.0</td>\n",
       "      <td>3.0</td>\n",
       "      <td>2</td>\n",
       "      <td>6</td>\n",
       "      <td>4</td>\n",
       "      <td>1</td>\n",
       "    </tr>\n",
       "    <tr>\n",
       "      <th>3</th>\n",
       "      <td>2015-01-04 03:00:00</td>\n",
       "      <td>72</td>\n",
       "      <td>2.0</td>\n",
       "      <td>2.0</td>\n",
       "      <td>100.0</td>\n",
       "      <td>0.0</td>\n",
       "      <td>1.0</td>\n",
       "      <td>0.0</td>\n",
       "      <td>1.0</td>\n",
       "      <td>3.0</td>\n",
       "      <td>3</td>\n",
       "      <td>6</td>\n",
       "      <td>4</td>\n",
       "      <td>1</td>\n",
       "    </tr>\n",
       "    <tr>\n",
       "      <th>4</th>\n",
       "      <td>2015-01-04 04:00:00</td>\n",
       "      <td>47</td>\n",
       "      <td>2.0</td>\n",
       "      <td>0.0</td>\n",
       "      <td>93.0</td>\n",
       "      <td>6.5</td>\n",
       "      <td>1.0</td>\n",
       "      <td>0.0</td>\n",
       "      <td>1.0</td>\n",
       "      <td>3.0</td>\n",
       "      <td>4</td>\n",
       "      <td>6</td>\n",
       "      <td>4</td>\n",
       "      <td>1</td>\n",
       "    </tr>\n",
       "  </tbody>\n",
       "</table>\n",
       "</div>"
      ],
      "text/plain": [
       "            timestamp  cnt   t1   t2    hum  wind_speed  weather_code  \\\n",
       "0 2015-01-04 00:00:00  182  3.0  2.0   93.0         6.0           3.0   \n",
       "1 2015-01-04 01:00:00  138  3.0  2.5   93.0         5.0           1.0   \n",
       "2 2015-01-04 02:00:00  134  2.5  2.5   96.5         0.0           1.0   \n",
       "3 2015-01-04 03:00:00   72  2.0  2.0  100.0         0.0           1.0   \n",
       "4 2015-01-04 04:00:00   47  2.0  0.0   93.0         6.5           1.0   \n",
       "\n",
       "   is_holiday  is_weekend  season  hour  day_of_week  day_of_month  month  \n",
       "0         0.0         1.0     3.0     0            6             4      1  \n",
       "1         0.0         1.0     3.0     1            6             4      1  \n",
       "2         0.0         1.0     3.0     2            6             4      1  \n",
       "3         0.0         1.0     3.0     3            6             4      1  \n",
       "4         0.0         1.0     3.0     4            6             4      1  "
      ]
     },
     "execution_count": 32,
     "metadata": {},
     "output_type": "execute_result"
    }
   ],
   "source": [
    "df.head()"
   ]
  },
  {
   "cell_type": "code",
   "execution_count": 33,
   "metadata": {},
   "outputs": [
    {
     "data": {
      "text/html": [
       "<div>\n",
       "<style scoped>\n",
       "    .dataframe tbody tr th:only-of-type {\n",
       "        vertical-align: middle;\n",
       "    }\n",
       "\n",
       "    .dataframe tbody tr th {\n",
       "        vertical-align: top;\n",
       "    }\n",
       "\n",
       "    .dataframe thead th {\n",
       "        text-align: right;\n",
       "    }\n",
       "</style>\n",
       "<table border=\"1\" class=\"dataframe\">\n",
       "  <thead>\n",
       "    <tr style=\"text-align: right;\">\n",
       "      <th></th>\n",
       "      <th>cnt</th>\n",
       "      <th>t1</th>\n",
       "      <th>t2</th>\n",
       "      <th>hum</th>\n",
       "      <th>wind_speed</th>\n",
       "      <th>weather_code</th>\n",
       "      <th>is_holiday</th>\n",
       "      <th>is_weekend</th>\n",
       "      <th>season</th>\n",
       "      <th>hour</th>\n",
       "      <th>day_of_week</th>\n",
       "      <th>day_of_month</th>\n",
       "      <th>month</th>\n",
       "      <th>month_year</th>\n",
       "    </tr>\n",
       "  </thead>\n",
       "  <tbody>\n",
       "    <tr>\n",
       "      <th>0</th>\n",
       "      <td>182</td>\n",
       "      <td>3.0</td>\n",
       "      <td>2.0</td>\n",
       "      <td>93.0</td>\n",
       "      <td>6.0</td>\n",
       "      <td>3.0</td>\n",
       "      <td>0.0</td>\n",
       "      <td>1.0</td>\n",
       "      <td>3.0</td>\n",
       "      <td>0</td>\n",
       "      <td>6</td>\n",
       "      <td>4</td>\n",
       "      <td>1</td>\n",
       "      <td>2015-01</td>\n",
       "    </tr>\n",
       "    <tr>\n",
       "      <th>1</th>\n",
       "      <td>138</td>\n",
       "      <td>3.0</td>\n",
       "      <td>2.5</td>\n",
       "      <td>93.0</td>\n",
       "      <td>5.0</td>\n",
       "      <td>1.0</td>\n",
       "      <td>0.0</td>\n",
       "      <td>1.0</td>\n",
       "      <td>3.0</td>\n",
       "      <td>1</td>\n",
       "      <td>6</td>\n",
       "      <td>4</td>\n",
       "      <td>1</td>\n",
       "      <td>2015-01</td>\n",
       "    </tr>\n",
       "    <tr>\n",
       "      <th>2</th>\n",
       "      <td>134</td>\n",
       "      <td>2.5</td>\n",
       "      <td>2.5</td>\n",
       "      <td>96.5</td>\n",
       "      <td>0.0</td>\n",
       "      <td>1.0</td>\n",
       "      <td>0.0</td>\n",
       "      <td>1.0</td>\n",
       "      <td>3.0</td>\n",
       "      <td>2</td>\n",
       "      <td>6</td>\n",
       "      <td>4</td>\n",
       "      <td>1</td>\n",
       "      <td>2015-01</td>\n",
       "    </tr>\n",
       "    <tr>\n",
       "      <th>3</th>\n",
       "      <td>72</td>\n",
       "      <td>2.0</td>\n",
       "      <td>2.0</td>\n",
       "      <td>100.0</td>\n",
       "      <td>0.0</td>\n",
       "      <td>1.0</td>\n",
       "      <td>0.0</td>\n",
       "      <td>1.0</td>\n",
       "      <td>3.0</td>\n",
       "      <td>3</td>\n",
       "      <td>6</td>\n",
       "      <td>4</td>\n",
       "      <td>1</td>\n",
       "      <td>2015-01</td>\n",
       "    </tr>\n",
       "    <tr>\n",
       "      <th>4</th>\n",
       "      <td>47</td>\n",
       "      <td>2.0</td>\n",
       "      <td>0.0</td>\n",
       "      <td>93.0</td>\n",
       "      <td>6.5</td>\n",
       "      <td>1.0</td>\n",
       "      <td>0.0</td>\n",
       "      <td>1.0</td>\n",
       "      <td>3.0</td>\n",
       "      <td>4</td>\n",
       "      <td>6</td>\n",
       "      <td>4</td>\n",
       "      <td>1</td>\n",
       "      <td>2015-01</td>\n",
       "    </tr>\n",
       "  </tbody>\n",
       "</table>\n",
       "</div>"
      ],
      "text/plain": [
       "   cnt   t1   t2    hum  wind_speed  weather_code  is_holiday  is_weekend  \\\n",
       "0  182  3.0  2.0   93.0         6.0           3.0         0.0         1.0   \n",
       "1  138  3.0  2.5   93.0         5.0           1.0         0.0         1.0   \n",
       "2  134  2.5  2.5   96.5         0.0           1.0         0.0         1.0   \n",
       "3   72  2.0  2.0  100.0         0.0           1.0         0.0         1.0   \n",
       "4   47  2.0  0.0   93.0         6.5           1.0         0.0         1.0   \n",
       "\n",
       "   season  hour  day_of_week  day_of_month  month month_year  \n",
       "0     3.0     0            6             4      1    2015-01  \n",
       "1     3.0     1            6             4      1    2015-01  \n",
       "2     3.0     2            6             4      1    2015-01  \n",
       "3     3.0     3            6             4      1    2015-01  \n",
       "4     3.0     4            6             4      1    2015-01  "
      ]
     },
     "execution_count": 33,
     "metadata": {},
     "output_type": "execute_result"
    }
   ],
   "source": [
    "df2.head()"
   ]
  },
  {
   "cell_type": "code",
   "execution_count": 34,
   "metadata": {},
   "outputs": [
    {
     "data": {
      "text/html": [
       "<div>\n",
       "<style scoped>\n",
       "    .dataframe tbody tr th:only-of-type {\n",
       "        vertical-align: middle;\n",
       "    }\n",
       "\n",
       "    .dataframe tbody tr th {\n",
       "        vertical-align: top;\n",
       "    }\n",
       "\n",
       "    .dataframe thead th {\n",
       "        text-align: right;\n",
       "    }\n",
       "</style>\n",
       "<table border=\"1\" class=\"dataframe\">\n",
       "  <thead>\n",
       "    <tr style=\"text-align: right;\">\n",
       "      <th></th>\n",
       "      <th>cnt</th>\n",
       "      <th>t1</th>\n",
       "      <th>t2</th>\n",
       "      <th>hum</th>\n",
       "      <th>wind_speed</th>\n",
       "      <th>weather_code</th>\n",
       "      <th>is_holiday</th>\n",
       "      <th>is_weekend</th>\n",
       "      <th>season</th>\n",
       "      <th>hour</th>\n",
       "      <th>day_of_week</th>\n",
       "      <th>day_of_month</th>\n",
       "      <th>month</th>\n",
       "    </tr>\n",
       "  </thead>\n",
       "  <tbody>\n",
       "    <tr>\n",
       "      <th>0</th>\n",
       "      <td>182</td>\n",
       "      <td>3.0</td>\n",
       "      <td>2.0</td>\n",
       "      <td>93.0</td>\n",
       "      <td>6.0</td>\n",
       "      <td>3.0</td>\n",
       "      <td>0.0</td>\n",
       "      <td>1.0</td>\n",
       "      <td>3.0</td>\n",
       "      <td>0</td>\n",
       "      <td>6</td>\n",
       "      <td>4</td>\n",
       "      <td>1</td>\n",
       "    </tr>\n",
       "  </tbody>\n",
       "</table>\n",
       "</div>"
      ],
      "text/plain": [
       "   cnt   t1   t2   hum  wind_speed  weather_code  is_holiday  is_weekend  \\\n",
       "0  182  3.0  2.0  93.0         6.0           3.0         0.0         1.0   \n",
       "\n",
       "   season  hour  day_of_week  day_of_month  month  \n",
       "0     3.0     0            6             4      1  "
      ]
     },
     "execution_count": 34,
     "metadata": {},
     "output_type": "execute_result"
    }
   ],
   "source": [
    "df2 = df2.drop('month_year', axis=1)\n",
    "df2.head(1)"
   ]
  },
  {
   "cell_type": "code",
   "execution_count": 35,
   "metadata": {},
   "outputs": [
    {
     "name": "stdout",
     "output_type": "stream",
     "text": [
      "(15672, 13) (1742, 13)\n"
     ]
    }
   ],
   "source": [
    "train_size = int(len(df2) * 0.9)\n",
    "test_size = len(df2) - train_size\n",
    "train, test = df2.iloc[0:train_size], df2[train_size:len(df2)]\n",
    "\n",
    "print(train.shape , test.shape)"
   ]
  },
  {
   "cell_type": "markdown",
   "metadata": {
    "id": "jqUZxGkGAzaQ"
   },
   "source": [
    "### Scaling"
   ]
  },
  {
   "cell_type": "markdown",
   "metadata": {
    "id": "40nAOGnsUiZa"
   },
   "source": [
    "**Robust Scaling**\n",
    "\n",
    "It is common to scale data prior to fitting a machine learning model.\n",
    "\n",
    "This is because data often consists of many different input variables or features (columns) and each may have a different range of values or units of measure, such as feet, miles, kilograms, dollars, etc.\n",
    "\n",
    "If there are input variables that have very large values relative to the other input variables, these large values can dominate or skew some machine learning algorithms. The result is that the algorithms pay most of their attention to the large values and ignore the variables with smaller values.\n",
    "\n",
    "LSTMs are sensitive to the scale of the input data, specifically when the sigmoid (default) or tanh activation functions are used. It can be a good practice to rescale the data to the range of 0-to-1, also called normalizing. You can easily normalize the dataset using the Robust Scaling preprocessing class from the scikit-learn library.\n",
    "\n",
    "- ***Note:*** *You are expected to scale only 't1', 't2', 'hum', 'wind_speed' variables. You also need to scale the dependent and independent variables separately. You must do this for both train data and test data.*"
   ]
  },
  {
   "cell_type": "code",
   "execution_count": 36,
   "metadata": {},
   "outputs": [
    {
     "name": "stderr",
     "output_type": "stream",
     "text": [
      "C:\\Users\\smdkc\\anaconda3\\lib\\site-packages\\ipykernel_launcher.py:7: SettingWithCopyWarning: \n",
      "A value is trying to be set on a copy of a slice from a DataFrame.\n",
      "Try using .loc[row_indexer,col_indexer] = value instead\n",
      "\n",
      "See the caveats in the documentation: https://pandas.pydata.org/pandas-docs/stable/user_guide/indexing.html#returning-a-view-versus-a-copy\n",
      "  import sys\n",
      "C:\\Users\\smdkc\\anaconda3\\lib\\site-packages\\pandas\\core\\indexing.py:965: SettingWithCopyWarning: \n",
      "A value is trying to be set on a copy of a slice from a DataFrame.\n",
      "Try using .loc[row_indexer,col_indexer] = value instead\n",
      "\n",
      "See the caveats in the documentation: https://pandas.pydata.org/pandas-docs/stable/user_guide/indexing.html#returning-a-view-versus-a-copy\n",
      "  self.obj[item] = s\n",
      "C:\\Users\\smdkc\\anaconda3\\lib\\site-packages\\ipykernel_launcher.py:8: SettingWithCopyWarning: \n",
      "A value is trying to be set on a copy of a slice from a DataFrame.\n",
      "Try using .loc[row_indexer,col_indexer] = value instead\n",
      "\n",
      "See the caveats in the documentation: https://pandas.pydata.org/pandas-docs/stable/user_guide/indexing.html#returning-a-view-versus-a-copy\n",
      "  \n",
      "C:\\Users\\smdkc\\anaconda3\\lib\\site-packages\\pandas\\core\\indexing.py:965: SettingWithCopyWarning: \n",
      "A value is trying to be set on a copy of a slice from a DataFrame.\n",
      "Try using .loc[row_indexer,col_indexer] = value instead\n",
      "\n",
      "See the caveats in the documentation: https://pandas.pydata.org/pandas-docs/stable/user_guide/indexing.html#returning-a-view-versus-a-copy\n",
      "  self.obj[item] = s\n"
     ]
    }
   ],
   "source": [
    "from sklearn.preprocessing import RobustScaler\n",
    "\n",
    "features=['t1','t2','hum','wind_speed']\n",
    "\n",
    "\n",
    "scaler_X = RobustScaler().fit(train[features])\n",
    "train[features] = scaler_X.transform(train[features])\n",
    "test[features] = scaler_X.transform(test[features])"
   ]
  },
  {
   "cell_type": "code",
   "execution_count": 37,
   "metadata": {},
   "outputs": [
    {
     "name": "stderr",
     "output_type": "stream",
     "text": [
      "C:\\Users\\smdkc\\anaconda3\\lib\\site-packages\\ipykernel_launcher.py:2: SettingWithCopyWarning: \n",
      "A value is trying to be set on a copy of a slice from a DataFrame.\n",
      "Try using .loc[row_indexer,col_indexer] = value instead\n",
      "\n",
      "See the caveats in the documentation: https://pandas.pydata.org/pandas-docs/stable/user_guide/indexing.html#returning-a-view-versus-a-copy\n",
      "  \n",
      "C:\\Users\\smdkc\\anaconda3\\lib\\site-packages\\ipykernel_launcher.py:3: SettingWithCopyWarning: \n",
      "A value is trying to be set on a copy of a slice from a DataFrame.\n",
      "Try using .loc[row_indexer,col_indexer] = value instead\n",
      "\n",
      "See the caveats in the documentation: https://pandas.pydata.org/pandas-docs/stable/user_guide/indexing.html#returning-a-view-versus-a-copy\n",
      "  This is separate from the ipykernel package so we can avoid doing imports until\n"
     ]
    }
   ],
   "source": [
    "scaler_y = RobustScaler().fit(train[['cnt']])\n",
    "train['cnt'] = scaler_y.transform(train[['cnt']])\n",
    "test['cnt'] = scaler_y.transform(test[['cnt']])"
   ]
  },
  {
   "cell_type": "markdown",
   "metadata": {
    "id": "1vZLliLzahab"
   },
   "source": [
    "### Define a Function for Creating Time Steps \n",
    "\n",
    "In order to use the capabilities of LSTM, we need to organize the data in accordance with the working principles of LSTM.\n",
    "You must separate the lines ordered by time in decimal steps.\n",
    "The size of the step may vary depending on the situation, in this case it is set to 10.\n",
    "\n",
    "Therefore, train and test data should be divided into groups of ten.\n",
    "When predicting test data, the model is asked to use the information from the next 10 records with itself for each record.\n",
    "\n",
    "As a result of this operation, each row will create a time step with the next 10 records, and you will have a matrix consisting of steps as many as the row total at the beginning.\n",
    "So, your data set must be a 3-dimensional numpy array like (15662, 10,13).\n",
    "As a result, LSTM will learn by taking 10 rows into account for one row.\n",
    "\n",
    "Create a function, that takes two arguments: the dataset(dependent or independent variables separately), which is a NumPy array that we want to convert into a dataset, and the time_steps, which is the number of previous time steps to use as input variables to predict the next time period.\n",
    "\n",
    "After defining the function, apply it to train and test sets."
   ]
  },
  {
   "cell_type": "code",
   "execution_count": 38,
   "metadata": {
    "id": "1wL7JqTHAzaR"
   },
   "outputs": [],
   "source": [
    "#X: features, y: labels\n",
    "def create_dataset(X, y, time_steps=1):\n",
    "    Xs, ys = [], []\n",
    "    for i in range(len(X) - time_steps):\n",
    "        v = X.iloc[i: (i + time_steps)].to_numpy()\n",
    "        Xs.append(v)\n",
    "        ys.append(y.iloc[i + time_steps])\n",
    "    return np.array(Xs), np.array(ys)"
   ]
  },
  {
   "cell_type": "code",
   "execution_count": 39,
   "metadata": {},
   "outputs": [],
   "source": [
    "time_steps =24\n",
    "X_train, y_train = create_dataset(train, train.cnt, time_steps=time_steps)\n",
    "X_test, y_test = create_dataset(test, test.cnt, time_steps=time_steps)"
   ]
  },
  {
   "cell_type": "code",
   "execution_count": 40,
   "metadata": {},
   "outputs": [
    {
     "name": "stdout",
     "output_type": "stream",
     "text": [
      "(15648, 24, 13) (15648,)\n"
     ]
    }
   ],
   "source": [
    "print(X_train.shape, y_train.shape)"
   ]
  },
  {
   "cell_type": "code",
   "execution_count": 41,
   "metadata": {},
   "outputs": [
    {
     "name": "stdout",
     "output_type": "stream",
     "text": [
      "(1718, 24, 13) (1718,)\n"
     ]
    }
   ],
   "source": [
    "# [samples, time_steps, n_features]\n",
    "print(X_test.shape, y_test.shape)"
   ]
  },
  {
   "cell_type": "markdown",
   "metadata": {
    "id": "BVdrF8e7AzaS"
   },
   "source": [
    "---\n",
    "---"
   ]
  },
  {
   "cell_type": "markdown",
   "metadata": {
    "id": "DNrEgXhhPRy3"
   },
   "source": [
    "## 3. Model Building with LSTM\n"
   ]
  },
  {
   "cell_type": "markdown",
   "metadata": {
    "id": "CmGTfQv_IffY"
   },
   "source": [
    "\n",
    "##Recurrent Neural Networks \n",
    "RNN are a type of artifcial neural network designed to recognize patterns in sequences of data, such as text, genomes, handwriting, the spoken word, numerical times series data.\n",
    "\n",
    "Recurrent Neural Networks use backpropagation algorithm for training. Because of their internal memory, RNN’s are able to remember important things about the input they received, which enables them to be very precise in predicting what’s coming next.\n",
    "\n",
    "RNNs could be stacked up to deeper versions, which contain more than 1 layers of RNN. Because RNNs are especially computationally expensive to train, normally a deep RNN model contains no more than 3 layers of LSTM.\n",
    "\n",
    "Train a bidirectional long short term memory (LSTM) recurrent neural network (RNN) with this data, making use of the self-loop and forget gate of LSTM.\n",
    "\n",
    "LSTM sequential learning model was chosen because of its ability to process sequential data and memorize data of past time steps.\n",
    "\n",
    "LSTM is a different type of gated RNN which is capable of learning long-term dependencies LSTM is not affected by vanishing gradient or exploding gradient problem\n",
    "Using Bidirectional LSTMs, we feed the learning algorithm with the original data once from beginning to the end and once from end to beginning.\n",
    "\n",
    "#### Bidirectional LSTM :\n",
    "Bidirectional LSTMs are an extension of traditional LSTMs that can improve model performance on sequence classification problems.\n",
    "\n",
    "In problems where all timesteps of the input sequence are available, Bidirectional LSTMs train two instead of one LSTMs on the input sequence. The first on the input sequence as-is and the second on a reversed copy of the input sequence. This can provide additional context to the network and result in faster and even fuller learning on the problem. Figure shows the mechanism of Bidirectional LSTM.\n",
    "\n",
    "\n",
    "\n",
    "\n",
    "\n",
    "\n",
    "![Unknown-2.png](data:image/png;base64,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)"
   ]
  },
  {
   "cell_type": "markdown",
   "metadata": {
    "id": "pBd9wjjqAzaY"
   },
   "source": [
    "### Create, Compile and Fit Bidirectional LSTM Model\n",
    "\n",
    "- Create a Sequential Model,\n",
    "- Add Bidirectional layers,\n",
    "- Apply Regularization (Drop Out),\n",
    "- Compile the model.\n",
    "\n",
    "***Note:*** *Define the optimizer as the efficient stochastic gradient descent algorithm ***adam***.* *This is a popular version of gradient descent because it automatically tunes itself and gives good results in a wide range of problems.*\n",
    "\n",
    "*In this case, use ***mean squared error*** as the loss argument. This loss is for a regression problems and is defined in Keras as mean_squared_error.\n",
    "Also use defined in Keras as ***accuracy*** as the metrics.*"
   ]
  },
  {
   "cell_type": "markdown",
   "metadata": {
    "id": "Jo6YUxCKAzaa"
   },
   "source": [
    "### Plot Train and Validation Losses"
   ]
  },
  {
   "cell_type": "code",
   "execution_count": 42,
   "metadata": {},
   "outputs": [],
   "source": [
    "from tensorflow.keras.layers import Bidirectional,Dropout,Dense,LSTM\n",
    "from tensorflow.keras.models import load_model,Sequential\n",
    "from tensorflow.keras.optimizers import Adam\n",
    "from tensorflow.keras.callbacks import EarlyStopping,History\n",
    "\n",
    "from sklearn.metrics import mean_squared_error,mean_absolute_error,r2_score, explained_variance_score\n",
    "from sklearn.metrics import classification_report,confusion_matrix, f1_score, recall_score, accuracy_score"
   ]
  },
  {
   "cell_type": "code",
   "execution_count": 43,
   "metadata": {},
   "outputs": [],
   "source": [
    "model = Sequential()\n",
    "# 14 feature var, unit 14 seceriz.\n",
    "model.add(Bidirectional(LSTM(14,input_shape=(X_train.shape[1], X_train.shape[2]))))\n",
    "model.add(Dropout(rate=0.2))\n",
    "model.add(Dense(1))\n",
    "opt = Adam(learning_rate=0.001)\n",
    "\n",
    "model.compile(optimizer=opt, loss='mean_squared_error')"
   ]
  },
  {
   "cell_type": "code",
   "execution_count": 45,
   "metadata": {
    "collapsed": true,
    "jupyter": {
     "outputs_hidden": true
    }
   },
   "outputs": [
    {
     "name": "stdout",
     "output_type": "stream",
     "text": [
      "Epoch 1/200\n",
      "52/52 [==============================] - 11s 59ms/step - loss: 0.5445 - val_loss: 0.5444\n",
      "Epoch 2/200\n",
      "52/52 [==============================] - 1s 22ms/step - loss: 0.3798 - val_loss: 0.4699\n",
      "Epoch 3/200\n",
      "52/52 [==============================] - 1s 21ms/step - loss: 0.3415 - val_loss: 0.4205\n",
      "Epoch 4/200\n",
      "52/52 [==============================] - 1s 21ms/step - loss: 0.3110 - val_loss: 0.3631\n",
      "Epoch 5/200\n",
      "52/52 [==============================] - 1s 21ms/step - loss: 0.2683 - val_loss: 0.3134\n",
      "Epoch 6/200\n",
      "52/52 [==============================] - 1s 22ms/step - loss: 0.2344 - val_loss: 0.2465\n",
      "Epoch 7/200\n",
      "52/52 [==============================] - 1s 23ms/step - loss: 0.1851 - val_loss: 0.1936\n",
      "Epoch 8/200\n",
      "52/52 [==============================] - 1s 23ms/step - loss: 0.1560 - val_loss: 0.1658\n",
      "Epoch 9/200\n",
      "52/52 [==============================] - 1s 24ms/step - loss: 0.1398 - val_loss: 0.1391\n",
      "Epoch 10/200\n",
      "52/52 [==============================] - 1s 23ms/step - loss: 0.1228 - val_loss: 0.1215\n",
      "Epoch 11/200\n",
      "52/52 [==============================] - 1s 23ms/step - loss: 0.1147 - val_loss: 0.1124\n",
      "Epoch 12/200\n",
      "52/52 [==============================] - 1s 22ms/step - loss: 0.1054 - val_loss: 0.0974\n",
      "Epoch 13/200\n",
      "52/52 [==============================] - 1s 22ms/step - loss: 0.0979 - val_loss: 0.0851\n",
      "Epoch 14/200\n",
      "52/52 [==============================] - 1s 22ms/step - loss: 0.0928 - val_loss: 0.0819\n",
      "Epoch 15/200\n",
      "52/52 [==============================] - 1s 22ms/step - loss: 0.0893 - val_loss: 0.0765\n",
      "Epoch 16/200\n",
      "52/52 [==============================] - 1s 22ms/step - loss: 0.0774 - val_loss: 0.0703\n",
      "Epoch 17/200\n",
      "52/52 [==============================] - 1s 20ms/step - loss: 0.0812 - val_loss: 0.0654\n",
      "Epoch 18/200\n",
      "52/52 [==============================] - 1s 20ms/step - loss: 0.0720 - val_loss: 0.0628\n",
      "Epoch 19/200\n",
      "52/52 [==============================] - 1s 22ms/step - loss: 0.0686 - val_loss: 0.0628\n",
      "Epoch 20/200\n",
      "52/52 [==============================] - 1s 26ms/step - loss: 0.0677 - val_loss: 0.0593\n",
      "Epoch 21/200\n",
      "52/52 [==============================] - 1s 22ms/step - loss: 0.0639 - val_loss: 0.0562\n",
      "Epoch 22/200\n",
      "52/52 [==============================] - 1s 21ms/step - loss: 0.0687 - val_loss: 0.0605\n",
      "Epoch 23/200\n",
      "52/52 [==============================] - 1s 22ms/step - loss: 0.0628 - val_loss: 0.0569\n",
      "Epoch 24/200\n",
      "52/52 [==============================] - 1s 21ms/step - loss: 0.0631 - val_loss: 0.0544\n",
      "Epoch 25/200\n",
      "52/52 [==============================] - 1s 21ms/step - loss: 0.0563 - val_loss: 0.0545\n",
      "Epoch 26/200\n",
      "52/52 [==============================] - 1s 23ms/step - loss: 0.0618 - val_loss: 0.0530\n",
      "Epoch 27/200\n",
      "52/52 [==============================] - 1s 21ms/step - loss: 0.0589 - val_loss: 0.0495\n",
      "Epoch 28/200\n",
      "52/52 [==============================] - 1s 21ms/step - loss: 0.0577 - val_loss: 0.0494\n",
      "Epoch 29/200\n",
      "52/52 [==============================] - 1s 19ms/step - loss: 0.0574 - val_loss: 0.0453\n",
      "Epoch 30/200\n",
      "52/52 [==============================] - 1s 19ms/step - loss: 0.0533 - val_loss: 0.0456\n",
      "Epoch 31/200\n",
      "52/52 [==============================] - 1s 19ms/step - loss: 0.0510 - val_loss: 0.0421\n",
      "Epoch 32/200\n",
      "52/52 [==============================] - 1s 20ms/step - loss: 0.0515 - val_loss: 0.0427\n",
      "Epoch 33/200\n",
      "52/52 [==============================] - 1s 21ms/step - loss: 0.0500 - val_loss: 0.0429\n",
      "Epoch 34/200\n",
      "52/52 [==============================] - 1s 21ms/step - loss: 0.0488 - val_loss: 0.0427\n",
      "Epoch 35/200\n",
      "52/52 [==============================] - 1s 21ms/step - loss: 0.0503 - val_loss: 0.0428\n",
      "Epoch 36/200\n",
      "52/52 [==============================] - 1s 22ms/step - loss: 0.0488 - val_loss: 0.0413\n",
      "Epoch 37/200\n",
      "52/52 [==============================] - 1s 20ms/step - loss: 0.0477 - val_loss: 0.0420\n",
      "Epoch 38/200\n",
      "52/52 [==============================] - 1s 20ms/step - loss: 0.0483 - val_loss: 0.0414\n",
      "Epoch 39/200\n",
      "52/52 [==============================] - 1s 21ms/step - loss: 0.0452 - val_loss: 0.0408\n",
      "Epoch 40/200\n",
      "52/52 [==============================] - 1s 23ms/step - loss: 0.0471 - val_loss: 0.0396\n",
      "Epoch 41/200\n",
      "52/52 [==============================] - 1s 23ms/step - loss: 0.0456 - val_loss: 0.0399\n",
      "Epoch 42/200\n",
      "52/52 [==============================] - 1s 21ms/step - loss: 0.0449 - val_loss: 0.0381\n",
      "Epoch 43/200\n",
      "52/52 [==============================] - 1s 22ms/step - loss: 0.0484 - val_loss: 0.0363\n",
      "Epoch 44/200\n",
      "52/52 [==============================] - 1s 21ms/step - loss: 0.0442 - val_loss: 0.0376\n",
      "Epoch 45/200\n",
      "52/52 [==============================] - 1s 22ms/step - loss: 0.0437 - val_loss: 0.0420\n",
      "Epoch 46/200\n",
      "52/52 [==============================] - 1s 21ms/step - loss: 0.0442 - val_loss: 0.0351\n",
      "Epoch 47/200\n",
      "52/52 [==============================] - 1s 22ms/step - loss: 0.0449 - val_loss: 0.0354\n",
      "Epoch 48/200\n",
      "52/52 [==============================] - 1s 21ms/step - loss: 0.0421 - val_loss: 0.0357\n",
      "Epoch 49/200\n",
      "52/52 [==============================] - 1s 25ms/step - loss: 0.0447 - val_loss: 0.0373\n",
      "Epoch 50/200\n",
      "52/52 [==============================] - 1s 24ms/step - loss: 0.0417 - val_loss: 0.0328\n",
      "Epoch 51/200\n",
      "52/52 [==============================] - 1s 23ms/step - loss: 0.0433 - val_loss: 0.0361\n",
      "Epoch 52/200\n",
      "52/52 [==============================] - 1s 21ms/step - loss: 0.0413 - val_loss: 0.0343\n",
      "Epoch 53/200\n",
      "52/52 [==============================] - 1s 21ms/step - loss: 0.0407 - val_loss: 0.0357\n",
      "Epoch 54/200\n",
      "52/52 [==============================] - 1s 22ms/step - loss: 0.0393 - val_loss: 0.0341\n",
      "Epoch 55/200\n",
      "52/52 [==============================] - 1s 22ms/step - loss: 0.0421 - val_loss: 0.0365\n",
      "Epoch 56/200\n",
      "52/52 [==============================] - 1s 21ms/step - loss: 0.0394 - val_loss: 0.0338\n",
      "Epoch 57/200\n",
      "52/52 [==============================] - 1s 26ms/step - loss: 0.0397 - val_loss: 0.0314\n",
      "Epoch 58/200\n",
      "52/52 [==============================] - 1s 21ms/step - loss: 0.0388 - val_loss: 0.0344\n",
      "Epoch 59/200\n",
      "52/52 [==============================] - 1s 21ms/step - loss: 0.0386 - val_loss: 0.0330\n",
      "Epoch 60/200\n",
      "52/52 [==============================] - 1s 23ms/step - loss: 0.0407 - val_loss: 0.0361\n",
      "Epoch 61/200\n",
      "52/52 [==============================] - 1s 24ms/step - loss: 0.0359 - val_loss: 0.0378\n",
      "Epoch 62/200\n",
      "52/52 [==============================] - 1s 29ms/step - loss: 0.0387 - val_loss: 0.0296\n",
      "Epoch 63/200\n",
      "52/52 [==============================] - 2s 29ms/step - loss: 0.0413 - val_loss: 0.0348\n",
      "Epoch 64/200\n",
      "52/52 [==============================] - 2s 29ms/step - loss: 0.0373 - val_loss: 0.0318\n",
      "Epoch 65/200\n",
      "52/52 [==============================] - 1s 25ms/step - loss: 0.0372 - val_loss: 0.0310\n",
      "Epoch 66/200\n",
      "52/52 [==============================] - 1s 27ms/step - loss: 0.0367 - val_loss: 0.0358\n",
      "Epoch 67/200\n",
      "52/52 [==============================] - 1s 28ms/step - loss: 0.0356 - val_loss: 0.0312\n",
      "Epoch 68/200\n",
      "52/52 [==============================] - 1s 24ms/step - loss: 0.0361 - val_loss: 0.0295\n",
      "Epoch 69/200\n",
      "52/52 [==============================] - 1s 24ms/step - loss: 0.0377 - val_loss: 0.0291\n",
      "Epoch 70/200\n",
      "52/52 [==============================] - 1s 25ms/step - loss: 0.0367 - val_loss: 0.0298\n",
      "Epoch 71/200\n",
      "52/52 [==============================] - 1s 28ms/step - loss: 0.0347 - val_loss: 0.0309\n",
      "Epoch 72/200\n",
      "52/52 [==============================] - 1s 25ms/step - loss: 0.0371 - val_loss: 0.0303\n",
      "Epoch 73/200\n",
      "52/52 [==============================] - 1s 26ms/step - loss: 0.0348 - val_loss: 0.0304\n",
      "Epoch 74/200\n",
      "52/52 [==============================] - 1s 25ms/step - loss: 0.0364 - val_loss: 0.0284\n",
      "Epoch 75/200\n",
      "52/52 [==============================] - 1s 26ms/step - loss: 0.0346 - val_loss: 0.0271\n",
      "Epoch 76/200\n",
      "52/52 [==============================] - 1s 23ms/step - loss: 0.0353 - val_loss: 0.0317\n",
      "Epoch 77/200\n",
      "52/52 [==============================] - 1s 23ms/step - loss: 0.0331 - val_loss: 0.0296\n",
      "Epoch 78/200\n",
      "52/52 [==============================] - 1s 22ms/step - loss: 0.0336 - val_loss: 0.0306\n",
      "Epoch 79/200\n",
      "52/52 [==============================] - 1s 21ms/step - loss: 0.0331 - val_loss: 0.0313\n",
      "Epoch 80/200\n",
      "52/52 [==============================] - 1s 21ms/step - loss: 0.0346 - val_loss: 0.0270\n",
      "Epoch 81/200\n",
      "52/52 [==============================] - 1s 20ms/step - loss: 0.0343 - val_loss: 0.0305\n",
      "Epoch 82/200\n",
      "52/52 [==============================] - 1s 21ms/step - loss: 0.0325 - val_loss: 0.0285\n",
      "Epoch 83/200\n",
      "52/52 [==============================] - 1s 20ms/step - loss: 0.0333 - val_loss: 0.0259\n",
      "Epoch 84/200\n",
      "52/52 [==============================] - 1s 21ms/step - loss: 0.0336 - val_loss: 0.0290\n",
      "Epoch 85/200\n",
      "52/52 [==============================] - 1s 22ms/step - loss: 0.0344 - val_loss: 0.0270\n",
      "Epoch 86/200\n",
      "52/52 [==============================] - 1s 21ms/step - loss: 0.0330 - val_loss: 0.0257\n",
      "Epoch 87/200\n",
      "52/52 [==============================] - 1s 21ms/step - loss: 0.0313 - val_loss: 0.0266\n",
      "Epoch 88/200\n",
      "52/52 [==============================] - 1s 23ms/step - loss: 0.0327 - val_loss: 0.0300\n",
      "Epoch 89/200\n",
      "52/52 [==============================] - 1s 22ms/step - loss: 0.0323 - val_loss: 0.0275\n",
      "Epoch 90/200\n",
      "52/52 [==============================] - 1s 23ms/step - loss: 0.0323 - val_loss: 0.0274\n",
      "Epoch 91/200\n",
      "52/52 [==============================] - 1s 22ms/step - loss: 0.0306 - val_loss: 0.0289\n",
      "Epoch 92/200\n",
      "52/52 [==============================] - 1s 24ms/step - loss: 0.0310 - val_loss: 0.0280\n",
      "Epoch 93/200\n",
      "52/52 [==============================] - 1s 21ms/step - loss: 0.0318 - val_loss: 0.0300\n",
      "Epoch 94/200\n",
      "52/52 [==============================] - 1s 21ms/step - loss: 0.0313 - val_loss: 0.0256\n",
      "Epoch 95/200\n",
      "52/52 [==============================] - 1s 24ms/step - loss: 0.0316 - val_loss: 0.0261\n",
      "Epoch 96/200\n",
      "52/52 [==============================] - 1s 21ms/step - loss: 0.0293 - val_loss: 0.0273\n",
      "Epoch 97/200\n",
      "52/52 [==============================] - 1s 21ms/step - loss: 0.0323 - val_loss: 0.0247\n",
      "Epoch 98/200\n",
      "52/52 [==============================] - 1s 22ms/step - loss: 0.0309 - val_loss: 0.0237\n",
      "Epoch 99/200\n",
      "52/52 [==============================] - 1s 20ms/step - loss: 0.0311 - val_loss: 0.0274\n",
      "Epoch 100/200\n",
      "52/52 [==============================] - 1s 19ms/step - loss: 0.0283 - val_loss: 0.0232\n",
      "Epoch 101/200\n",
      "52/52 [==============================] - 1s 21ms/step - loss: 0.0283 - val_loss: 0.0256\n",
      "Epoch 102/200\n",
      "52/52 [==============================] - 1s 23ms/step - loss: 0.0306 - val_loss: 0.0263\n",
      "Epoch 103/200\n",
      "52/52 [==============================] - 1s 23ms/step - loss: 0.0299 - val_loss: 0.0325\n",
      "Epoch 104/200\n",
      "52/52 [==============================] - 1s 21ms/step - loss: 0.0298 - val_loss: 0.0237\n",
      "Epoch 105/200\n",
      "52/52 [==============================] - 1s 21ms/step - loss: 0.0304 - val_loss: 0.0223\n",
      "Epoch 106/200\n",
      "52/52 [==============================] - 1s 21ms/step - loss: 0.0284 - val_loss: 0.0222\n",
      "Epoch 107/200\n",
      "52/52 [==============================] - 1s 20ms/step - loss: 0.0296 - val_loss: 0.0258\n",
      "Epoch 108/200\n",
      "52/52 [==============================] - 1s 21ms/step - loss: 0.0289 - val_loss: 0.0294\n",
      "Epoch 109/200\n",
      "52/52 [==============================] - 1s 19ms/step - loss: 0.0297 - val_loss: 0.0259\n",
      "Epoch 110/200\n",
      "52/52 [==============================] - 1s 21ms/step - loss: 0.0288 - val_loss: 0.0249\n",
      "Epoch 111/200\n",
      "52/52 [==============================] - 1s 22ms/step - loss: 0.0283 - val_loss: 0.0236\n",
      "Epoch 112/200\n",
      "52/52 [==============================] - 1s 23ms/step - loss: 0.0279 - val_loss: 0.0264\n",
      "Epoch 113/200\n",
      "52/52 [==============================] - 1s 23ms/step - loss: 0.0309 - val_loss: 0.0237\n",
      "Epoch 114/200\n",
      "52/52 [==============================] - 1s 24ms/step - loss: 0.0282 - val_loss: 0.0256\n",
      "Epoch 115/200\n",
      "52/52 [==============================] - 1s 22ms/step - loss: 0.0285 - val_loss: 0.0236\n",
      "Epoch 116/200\n",
      "52/52 [==============================] - 1s 22ms/step - loss: 0.0273 - val_loss: 0.0270\n",
      "Epoch 117/200\n",
      "52/52 [==============================] - 1s 21ms/step - loss: 0.0278 - val_loss: 0.0289\n",
      "Epoch 118/200\n",
      "52/52 [==============================] - 1s 22ms/step - loss: 0.0270 - val_loss: 0.0235\n",
      "Epoch 119/200\n",
      "52/52 [==============================] - 1s 20ms/step - loss: 0.0288 - val_loss: 0.0265\n",
      "Epoch 120/200\n",
      "52/52 [==============================] - 1s 21ms/step - loss: 0.0272 - val_loss: 0.0219\n",
      "Epoch 121/200\n",
      "52/52 [==============================] - 1s 21ms/step - loss: 0.0282 - val_loss: 0.0234\n",
      "Epoch 122/200\n",
      "52/52 [==============================] - 1s 20ms/step - loss: 0.0282 - val_loss: 0.0212\n",
      "Epoch 123/200\n",
      "52/52 [==============================] - 1s 21ms/step - loss: 0.0267 - val_loss: 0.0225\n",
      "Epoch 124/200\n",
      "52/52 [==============================] - 1s 21ms/step - loss: 0.0284 - val_loss: 0.0265\n",
      "Epoch 125/200\n",
      "52/52 [==============================] - 1s 21ms/step - loss: 0.0274 - val_loss: 0.0233\n",
      "Epoch 126/200\n",
      "52/52 [==============================] - 1s 20ms/step - loss: 0.0284 - val_loss: 0.0256\n",
      "Epoch 127/200\n",
      "52/52 [==============================] - 1s 20ms/step - loss: 0.0282 - val_loss: 0.0223\n",
      "Epoch 128/200\n",
      "52/52 [==============================] - 1s 20ms/step - loss: 0.0273 - val_loss: 0.0225\n",
      "Epoch 129/200\n",
      "52/52 [==============================] - 1s 21ms/step - loss: 0.0287 - val_loss: 0.0291\n",
      "Epoch 130/200\n",
      "52/52 [==============================] - 1s 22ms/step - loss: 0.0276 - val_loss: 0.0241\n",
      "Epoch 131/200\n",
      "52/52 [==============================] - 1s 24ms/step - loss: 0.0260 - val_loss: 0.0330\n",
      "Epoch 132/200\n",
      "52/52 [==============================] - 1s 28ms/step - loss: 0.0274 - val_loss: 0.0242\n",
      "Epoch 133/200\n",
      "52/52 [==============================] - 1s 23ms/step - loss: 0.0281 - val_loss: 0.0246\n",
      "Epoch 134/200\n",
      "52/52 [==============================] - 1s 21ms/step - loss: 0.0268 - val_loss: 0.0257\n",
      "Epoch 135/200\n",
      "52/52 [==============================] - 1s 21ms/step - loss: 0.0248 - val_loss: 0.0241\n",
      "Epoch 136/200\n",
      "52/52 [==============================] - 1s 21ms/step - loss: 0.0294 - val_loss: 0.0200\n",
      "Epoch 137/200\n",
      "52/52 [==============================] - 1s 21ms/step - loss: 0.0275 - val_loss: 0.0237\n",
      "Epoch 138/200\n",
      "52/52 [==============================] - 1s 21ms/step - loss: 0.0262 - val_loss: 0.0202\n",
      "Epoch 139/200\n",
      "52/52 [==============================] - 1s 21ms/step - loss: 0.0261 - val_loss: 0.0232\n",
      "Epoch 140/200\n",
      "52/52 [==============================] - 1s 21ms/step - loss: 0.0263 - val_loss: 0.0238\n",
      "Epoch 141/200\n",
      "52/52 [==============================] - 1s 20ms/step - loss: 0.0276 - val_loss: 0.0238\n",
      "Epoch 142/200\n",
      "52/52 [==============================] - 1s 21ms/step - loss: 0.0268 - val_loss: 0.0245\n",
      "Epoch 143/200\n",
      "52/52 [==============================] - 1s 21ms/step - loss: 0.0253 - val_loss: 0.0262\n",
      "Epoch 144/200\n",
      "52/52 [==============================] - 1s 20ms/step - loss: 0.0251 - val_loss: 0.0220\n",
      "Epoch 145/200\n",
      "52/52 [==============================] - 1s 20ms/step - loss: 0.0259 - val_loss: 0.0224\n",
      "Epoch 146/200\n",
      "52/52 [==============================] - 1s 21ms/step - loss: 0.0248 - val_loss: 0.0246\n",
      "Epoch 147/200\n",
      "52/52 [==============================] - 1s 21ms/step - loss: 0.0245 - val_loss: 0.0231\n",
      "Epoch 148/200\n",
      "52/52 [==============================] - 1s 21ms/step - loss: 0.0271 - val_loss: 0.0255\n",
      "Epoch 149/200\n",
      "52/52 [==============================] - 1s 21ms/step - loss: 0.0260 - val_loss: 0.0231\n",
      "Epoch 150/200\n",
      "52/52 [==============================] - 1s 21ms/step - loss: 0.0242 - val_loss: 0.0230\n",
      "Epoch 151/200\n",
      "52/52 [==============================] - 1s 20ms/step - loss: 0.0247 - val_loss: 0.0261\n",
      "Epoch 152/200\n",
      "52/52 [==============================] - 1s 20ms/step - loss: 0.0240 - val_loss: 0.0230\n",
      "Epoch 153/200\n",
      "52/52 [==============================] - ETA: 0s - loss: 0.024 - 1s 21ms/step - loss: 0.0242 - val_loss: 0.0216\n",
      "Epoch 154/200\n",
      "52/52 [==============================] - 1s 20ms/step - loss: 0.0263 - val_loss: 0.0234\n",
      "Epoch 155/200\n",
      "52/52 [==============================] - 1s 20ms/step - loss: 0.0237 - val_loss: 0.0248\n",
      "Epoch 156/200\n",
      "52/52 [==============================] - 1s 21ms/step - loss: 0.0276 - val_loss: 0.0257\n",
      "Epoch 157/200\n",
      "52/52 [==============================] - 1s 20ms/step - loss: 0.0255 - val_loss: 0.0220\n",
      "Epoch 158/200\n",
      "52/52 [==============================] - 1s 21ms/step - loss: 0.0235 - val_loss: 0.0242\n",
      "Epoch 159/200\n",
      "52/52 [==============================] - 1s 21ms/step - loss: 0.0252 - val_loss: 0.0221\n",
      "Epoch 160/200\n",
      "52/52 [==============================] - 1s 22ms/step - loss: 0.0261 - val_loss: 0.0237\n",
      "Epoch 161/200\n",
      "52/52 [==============================] - 1s 21ms/step - loss: 0.0242 - val_loss: 0.0212\n",
      "Epoch 162/200\n",
      "52/52 [==============================] - 1s 21ms/step - loss: 0.0249 - val_loss: 0.0265\n",
      "Epoch 163/200\n",
      "52/52 [==============================] - 1s 20ms/step - loss: 0.0259 - val_loss: 0.0203\n",
      "Epoch 164/200\n",
      "52/52 [==============================] - 1s 20ms/step - loss: 0.0249 - val_loss: 0.0222\n",
      "Epoch 165/200\n",
      "52/52 [==============================] - 1s 20ms/step - loss: 0.0255 - val_loss: 0.0245\n",
      "Epoch 166/200\n",
      "52/52 [==============================] - 1s 21ms/step - loss: 0.0237 - val_loss: 0.0235\n",
      "Epoch 167/200\n",
      "52/52 [==============================] - 1s 21ms/step - loss: 0.0244 - val_loss: 0.0247\n",
      "Epoch 168/200\n",
      "52/52 [==============================] - 1s 22ms/step - loss: 0.0241 - val_loss: 0.0241\n",
      "Epoch 169/200\n",
      "52/52 [==============================] - 1s 21ms/step - loss: 0.0253 - val_loss: 0.0232\n",
      "Epoch 170/200\n",
      "52/52 [==============================] - 1s 25ms/step - loss: 0.0250 - val_loss: 0.0194\n",
      "Epoch 171/200\n",
      "52/52 [==============================] - 1s 21ms/step - loss: 0.0241 - val_loss: 0.0254\n",
      "Epoch 172/200\n",
      "52/52 [==============================] - 1s 21ms/step - loss: 0.0250 - val_loss: 0.0216\n",
      "Epoch 173/200\n",
      "52/52 [==============================] - 1s 21ms/step - loss: 0.0261 - val_loss: 0.0218\n",
      "Epoch 174/200\n",
      "52/52 [==============================] - 1s 24ms/step - loss: 0.0263 - val_loss: 0.0243\n",
      "Epoch 175/200\n",
      "52/52 [==============================] - 1s 23ms/step - loss: 0.0246 - val_loss: 0.0227\n",
      "Epoch 176/200\n",
      "52/52 [==============================] - 1s 25ms/step - loss: 0.0251 - val_loss: 0.0253\n",
      "Epoch 177/200\n",
      "52/52 [==============================] - 1s 23ms/step - loss: 0.0254 - val_loss: 0.0214\n",
      "Epoch 178/200\n",
      "52/52 [==============================] - 1s 21ms/step - loss: 0.0243 - val_loss: 0.0247\n",
      "Epoch 179/200\n",
      "52/52 [==============================] - 1s 21ms/step - loss: 0.0241 - val_loss: 0.0223\n",
      "Epoch 180/200\n",
      "52/52 [==============================] - 1s 21ms/step - loss: 0.0259 - val_loss: 0.0226\n",
      "Epoch 181/200\n",
      "52/52 [==============================] - 1s 21ms/step - loss: 0.0264 - val_loss: 0.0220\n",
      "Epoch 182/200\n",
      "52/52 [==============================] - 1s 21ms/step - loss: 0.0231 - val_loss: 0.0210\n",
      "Epoch 183/200\n",
      "52/52 [==============================] - 1s 20ms/step - loss: 0.0263 - val_loss: 0.0236\n",
      "Epoch 184/200\n",
      "52/52 [==============================] - 1s 22ms/step - loss: 0.0252 - val_loss: 0.0229\n",
      "Epoch 185/200\n",
      "52/52 [==============================] - 1s 21ms/step - loss: 0.0242 - val_loss: 0.0224\n",
      "Epoch 186/200\n",
      "52/52 [==============================] - 1s 20ms/step - loss: 0.0271 - val_loss: 0.0271\n",
      "Epoch 187/200\n",
      "52/52 [==============================] - 1s 21ms/step - loss: 0.0251 - val_loss: 0.0212\n",
      "Epoch 188/200\n",
      "52/52 [==============================] - 1s 21ms/step - loss: 0.0227 - val_loss: 0.0275\n",
      "Epoch 189/200\n",
      "52/52 [==============================] - 1s 22ms/step - loss: 0.0242 - val_loss: 0.0209\n",
      "Epoch 190/200\n",
      "52/52 [==============================] - 1s 22ms/step - loss: 0.0239 - val_loss: 0.0252\n",
      "Epoch 191/200\n",
      "52/52 [==============================] - 1s 21ms/step - loss: 0.0218 - val_loss: 0.0220\n",
      "Epoch 192/200\n",
      "52/52 [==============================] - 1s 20ms/step - loss: 0.0223 - val_loss: 0.0223\n",
      "Epoch 193/200\n",
      "52/52 [==============================] - 1s 21ms/step - loss: 0.0254 - val_loss: 0.0230\n",
      "Epoch 194/200\n",
      "52/52 [==============================] - 1s 21ms/step - loss: 0.0248 - val_loss: 0.0217\n",
      "Epoch 195/200\n",
      "52/52 [==============================] - 1s 21ms/step - loss: 0.0242 - val_loss: 0.0226\n",
      "Epoch 196/200\n",
      "52/52 [==============================] - 1s 21ms/step - loss: 0.0241 - val_loss: 0.0216\n",
      "Epoch 197/200\n",
      "52/52 [==============================] - 1s 20ms/step - loss: 0.0237 - val_loss: 0.0229\n",
      "Epoch 198/200\n",
      "52/52 [==============================] - 1s 20ms/step - loss: 0.0238 - val_loss: 0.0230\n",
      "Epoch 199/200\n",
      "52/52 [==============================] - 1s 20ms/step - loss: 0.0239 - val_loss: 0.0213\n",
      "Epoch 200/200\n",
      "52/52 [==============================] - 1s 21ms/step - loss: 0.0238 - val_loss: 0.0203\n"
     ]
    },
    {
     "data": {
      "text/plain": [
       "<tensorflow.python.keras.callbacks.History at 0x150daa73f88>"
      ]
     },
     "execution_count": 45,
     "metadata": {},
     "output_type": "execute_result"
    }
   ],
   "source": [
    "history = History()\n",
    "model.fit(X_train, y_train, \n",
    "          epochs=200,\n",
    "          batch_size=256, \n",
    "          validation_split=0.15,\n",
    "          validation_data=(X_test,y_test),\n",
    "          verbose=1,\n",
    "#           callbacks=[early_stop],\n",
    "          callbacks=[history],\n",
    "          shuffle=True,\n",
    "         )"
   ]
  },
  {
   "cell_type": "code",
   "execution_count": 46,
   "metadata": {},
   "outputs": [
    {
     "name": "stdout",
     "output_type": "stream",
     "text": [
      "Model: \"sequential\"\n",
      "_________________________________________________________________\n",
      "Layer (type)                 Output Shape              Param #   \n",
      "=================================================================\n",
      "bidirectional (Bidirectional (None, 28)                3136      \n",
      "_________________________________________________________________\n",
      "dropout (Dropout)            (None, 28)                0         \n",
      "_________________________________________________________________\n",
      "dense (Dense)                (None, 1)                 29        \n",
      "=================================================================\n",
      "Total params: 3,165\n",
      "Trainable params: 3,165\n",
      "Non-trainable params: 0\n",
      "_________________________________________________________________\n"
     ]
    }
   ],
   "source": [
    "model.summary()"
   ]
  },
  {
   "cell_type": "code",
   "execution_count": 47,
   "metadata": {},
   "outputs": [
    {
     "data": {
      "image/png": "[encoded data removed]",
      "text/plain": [
       "<Figure size 720x360 with 1 Axes>"
      ]
     },
     "metadata": {
      "needs_background": "light"
     },
     "output_type": "display_data"
    }
   ],
   "source": [
    "loss_df = pd.DataFrame(history.history)\n",
    "loss_df.plot(figsize=(10, 5));"
   ]
  },
  {
   "cell_type": "markdown",
   "metadata": {
    "id": "sriHRh6qAzab"
   },
   "source": [
    "---\n",
    "---"
   ]
  },
  {
   "cell_type": "markdown",
   "metadata": {
    "id": "7U93wor7PcO4"
   },
   "source": [
    "## 4. Demand Predictions"
   ]
  },
  {
   "cell_type": "markdown",
   "metadata": {
    "id": "30CPN-xsAzab"
   },
   "source": [
    "At this stage, you will measure the prediction success of your model. So, you will need to compare the actual values of the test data with their predicted values. \n",
    "\n",
    "For this reason, you must inverse transform the y_pred variable predicted by the model with the target variables of the train and test data you have previously scaled."
   ]
  },
  {
   "cell_type": "markdown",
   "metadata": {
    "id": "VLPTDCaDAzab"
   },
   "source": [
    "### Inverse Transform"
   ]
  },
  {
   "cell_type": "code",
   "execution_count": 48,
   "metadata": {
    "id": "u60kowWAAzab"
   },
   "outputs": [],
   "source": [
    "y_pred = model.predict(X_test)\n",
    "y_pred = scaler_y.inverse_transform(y_pred)"
   ]
  },
  {
   "cell_type": "markdown",
   "metadata": {
    "id": "26yRkZgBAzac"
   },
   "source": [
    "### Plot Prediction"
   ]
  },
  {
   "cell_type": "code",
   "execution_count": 49,
   "metadata": {
    "id": "UZ9QNlY7Azac"
   },
   "outputs": [
    {
     "data": {
      "image/png": "[encoded data removed]",
      "text/plain": [
       "<Figure size 720x360 with 1 Axes>"
      ]
     },
     "metadata": {
      "needs_background": "light"
     },
     "output_type": "display_data"
    }
   ],
   "source": [
    "plt.figure(figsize=(10, 5))\n",
    "plt.plot(y_test[1500:2000], label='actual')\n",
    "plt.plot(y_pred[1500:2000], label='predict')\n",
    "plt.legend();"
   ]
  },
  {
   "cell_type": "markdown",
   "metadata": {
    "id": "uZyhfUkmAzac"
   },
   "source": [
    "### Calculate Train and Test Error Scores"
   ]
  },
  {
   "cell_type": "code",
   "execution_count": 50,
   "metadata": {
    "id": "Bkt6L7mfAzac"
   },
   "outputs": [],
   "source": [
    "def eval_metrics(actual, pred):\n",
    "    rmse = np.sqrt(mean_squared_error(actual, pred))\n",
    "    mae = mean_absolute_error(actual, pred)\n",
    "    mse = mean_squared_error(actual, pred)\n",
    "    r2score = r2_score(actual, pred)\n",
    "    print(f\"R2 Score: {r2score}\",\n",
    "          f\"Mean Absolute Error(MAE): {mae}\",\n",
    "          f\"Mean Square Error(MSE): {mse}\",\n",
    "          f\"Root Mean Square Error(RMSE): {rmse}\",sep=\"\\n\")"
   ]
  },
  {
   "cell_type": "code",
   "execution_count": 51,
   "metadata": {},
   "outputs": [
    {
     "name": "stdout",
     "output_type": "stream",
     "text": [
      "R2 Score: -4127547.051871318\n",
      "Mean Absolute Error(MAE): 956.3606036410796\n",
      "Mean Square Error(MSE): 1693376.7578935127\n",
      "Root Mean Square Error(RMSE): 1301.2981049296554\n"
     ]
    }
   ],
   "source": [
    "#Test Data\n",
    "y_test_pred = model.predict(X_test)\n",
    "y_test_pred = scaler_y.inverse_transform(y_test_pred)\n",
    "eval_metrics(y_test, y_test_pred)"
   ]
  },
  {
   "cell_type": "code",
   "execution_count": 52,
   "metadata": {},
   "outputs": [
    {
     "name": "stdout",
     "output_type": "stream",
     "text": [
      "R2 Score: 0.9780147830946949\n",
      "Mean Absolute Error(MAE): 0.0674298788860301\n",
      "Mean Square Error(MSE): 0.012604874455747027\n",
      "Root Mean Square Error(RMSE): 0.11227143205529636\n"
     ]
    }
   ],
   "source": [
    "#Training Data\n",
    "y_train_pred = model.predict(X_train)\n",
    "y_py_train_predred = scaler_y.inverse_transform(y_train_pred)\n",
    "eval_metrics(y_train, y_train_pred)"
   ]
  },
  {
   "cell_type": "code",
   "execution_count": null,
   "metadata": {},
   "outputs": [],
   "source": [
    "# saving model : model.save('...')"
   ]
  },
  {
   "cell_type": "markdown",
   "metadata": {
    "id": "flznMCqEAzac"
   },
   "source": [
    "___\n",
    "\n",
    "<p style=\"text-align: center;\"><img src=\"https://docs.google.com/uc?id=1lY0Uj5R04yMY3-ZppPWxqCr5pvBLYPnV\" class=\"img-fluid\" alt=\"CLRSWY\"></p>\n",
    "\n",
    "___"
   ]
  }
 ],
 "metadata": {
  "colab": {
   "collapsed_sections": [],
   "name": "Demand_Prediction_Student_v1.ipynb",
   "provenance": [],
   "toc_visible": true
  },
  "kernelspec": {
   "display_name": "Python 3",
   "language": "python",
   "name": "python3"
  },
  "language_info": {
   "codemirror_mode": {
    "name": "ipython",
    "version": 3
   },
   "file_extension": ".py",
   "mimetype": "text/x-python",
   "name": "python",
   "nbconvert_exporter": "python",
   "pygments_lexer": "ipython3",
   "version": "3.7.6"
  }
 },
 "nbformat": 4,
 "nbformat_minor": 4
}
